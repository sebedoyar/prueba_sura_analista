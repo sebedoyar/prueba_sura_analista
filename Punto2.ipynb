{
 "cells": [
  {
   "cell_type": "code",
   "execution_count": 1,
   "metadata": {
    "scrolled": true
   },
   "outputs": [],
   "source": [
    "import pandas as pd\n",
    "import numpy as np\n",
    "import seaborn as sns\n",
    "import matplotlib.pyplot as plt"
   ]
  },
  {
   "cell_type": "code",
   "execution_count": 2,
   "metadata": {
    "scrolled": true
   },
   "outputs": [],
   "source": [
    "base = pd.read_csv(\"BASE.txt\",sep=\";\")\n",
    "monedas = pd.read_csv(\"Monedas.txt\", sep=\";\")"
   ]
  },
  {
   "cell_type": "code",
   "execution_count": 3,
   "metadata": {
    "scrolled": true
   },
   "outputs": [
    {
     "data": {
      "text/html": [
       "<div>\n",
       "<style scoped>\n",
       "    .dataframe tbody tr th:only-of-type {\n",
       "        vertical-align: middle;\n",
       "    }\n",
       "\n",
       "    .dataframe tbody tr th {\n",
       "        vertical-align: top;\n",
       "    }\n",
       "\n",
       "    .dataframe thead th {\n",
       "        text-align: right;\n",
       "    }\n",
       "</style>\n",
       "<table border=\"1\" class=\"dataframe\">\n",
       "  <thead>\n",
       "    <tr style=\"text-align: right;\">\n",
       "      <th></th>\n",
       "      <th>Fecha</th>\n",
       "      <th>Empresa</th>\n",
       "      <th>Moneda</th>\n",
       "      <th>Ingreso</th>\n",
       "    </tr>\n",
       "  </thead>\n",
       "  <tbody>\n",
       "    <tr>\n",
       "      <th>0</th>\n",
       "      <td>01/01/2017</td>\n",
       "      <td>Empresa A</td>\n",
       "      <td>EURO</td>\n",
       "      <td>0.000137</td>\n",
       "    </tr>\n",
       "    <tr>\n",
       "      <th>1</th>\n",
       "      <td>01/02/2017</td>\n",
       "      <td>Empresa A</td>\n",
       "      <td>EURO</td>\n",
       "      <td>0.001744</td>\n",
       "    </tr>\n",
       "    <tr>\n",
       "      <th>2</th>\n",
       "      <td>01/03/2017</td>\n",
       "      <td>Empresa A</td>\n",
       "      <td>EURO</td>\n",
       "      <td>0.126475</td>\n",
       "    </tr>\n",
       "    <tr>\n",
       "      <th>3</th>\n",
       "      <td>01/04/2017</td>\n",
       "      <td>Empresa A</td>\n",
       "      <td>EURO</td>\n",
       "      <td>0.000118</td>\n",
       "    </tr>\n",
       "    <tr>\n",
       "      <th>4</th>\n",
       "      <td>01/05/2017</td>\n",
       "      <td>Empresa A</td>\n",
       "      <td>EURO</td>\n",
       "      <td>0.000000</td>\n",
       "    </tr>\n",
       "  </tbody>\n",
       "</table>\n",
       "</div>"
      ],
      "text/plain": [
       "        Fecha    Empresa Moneda   Ingreso\n",
       "0  01/01/2017  Empresa A   EURO  0.000137\n",
       "1  01/02/2017  Empresa A   EURO  0.001744\n",
       "2  01/03/2017  Empresa A   EURO  0.126475\n",
       "3  01/04/2017  Empresa A   EURO  0.000118\n",
       "4  01/05/2017  Empresa A   EURO  0.000000"
      ]
     },
     "execution_count": 3,
     "metadata": {},
     "output_type": "execute_result"
    }
   ],
   "source": [
    "base.head()"
   ]
  },
  {
   "cell_type": "code",
   "execution_count": 4,
   "metadata": {
    "scrolled": true
   },
   "outputs": [
    {
     "name": "stdout",
     "output_type": "stream",
     "text": [
      "['Empresa A' 'Empesa B' 'Empresa C' 'EmpresaC']\n"
     ]
    }
   ],
   "source": [
    "print(base.Empresa.unique())"
   ]
  },
  {
   "cell_type": "code",
   "execution_count": 5,
   "metadata": {
    "scrolled": true
   },
   "outputs": [],
   "source": [
    "base = base.replace({'Empresa': {'EmpresaC':'Empresa C','Empesa B':'Empresa B'}})"
   ]
  },
  {
   "cell_type": "code",
   "execution_count": 6,
   "metadata": {
    "scrolled": true
   },
   "outputs": [
    {
     "name": "stdout",
     "output_type": "stream",
     "text": [
      "['Empresa A' 'Empresa B' 'Empresa C']\n"
     ]
    },
    {
     "data": {
      "text/plain": [
       "(3383, 4)"
      ]
     },
     "execution_count": 6,
     "metadata": {},
     "output_type": "execute_result"
    }
   ],
   "source": [
    "print(base.Empresa.unique())\n",
    "base.shape"
   ]
  },
  {
   "cell_type": "code",
   "execution_count": 7,
   "metadata": {
    "scrolled": true
   },
   "outputs": [
    {
     "data": {
      "text/html": [
       "<div>\n",
       "<style scoped>\n",
       "    .dataframe tbody tr th:only-of-type {\n",
       "        vertical-align: middle;\n",
       "    }\n",
       "\n",
       "    .dataframe tbody tr th {\n",
       "        vertical-align: top;\n",
       "    }\n",
       "\n",
       "    .dataframe thead th {\n",
       "        text-align: right;\n",
       "    }\n",
       "</style>\n",
       "<table border=\"1\" class=\"dataframe\">\n",
       "  <thead>\n",
       "    <tr style=\"text-align: right;\">\n",
       "      <th></th>\n",
       "      <th>FECHA</th>\n",
       "      <th>USD</th>\n",
       "      <th>EURO</th>\n",
       "    </tr>\n",
       "  </thead>\n",
       "  <tbody>\n",
       "    <tr>\n",
       "      <th>0</th>\n",
       "      <td>01/01/2017</td>\n",
       "      <td>3000.71</td>\n",
       "      <td>3136.64</td>\n",
       "    </tr>\n",
       "    <tr>\n",
       "      <th>1</th>\n",
       "      <td>02/01/2017</td>\n",
       "      <td>3000.71</td>\n",
       "      <td>3140.24</td>\n",
       "    </tr>\n",
       "    <tr>\n",
       "      <th>2</th>\n",
       "      <td>03/01/2017</td>\n",
       "      <td>2981.06</td>\n",
       "      <td>3095.83</td>\n",
       "    </tr>\n",
       "    <tr>\n",
       "      <th>3</th>\n",
       "      <td>04/01/2017</td>\n",
       "      <td>2965.36</td>\n",
       "      <td>3094.95</td>\n",
       "    </tr>\n",
       "    <tr>\n",
       "      <th>4</th>\n",
       "      <td>05/01/2017</td>\n",
       "      <td>2941.08</td>\n",
       "      <td>3088.43</td>\n",
       "    </tr>\n",
       "  </tbody>\n",
       "</table>\n",
       "</div>"
      ],
      "text/plain": [
       "        FECHA      USD     EURO\n",
       "0  01/01/2017  3000.71  3136.64\n",
       "1  02/01/2017  3000.71  3140.24\n",
       "2  03/01/2017  2981.06  3095.83\n",
       "3  04/01/2017  2965.36  3094.95\n",
       "4  05/01/2017  2941.08  3088.43"
      ]
     },
     "execution_count": 7,
     "metadata": {},
     "output_type": "execute_result"
    }
   ],
   "source": [
    "monedas.head()\n",
    "#print(monedas.Moneda.unique())"
   ]
  },
  {
   "cell_type": "code",
   "execution_count": 8,
   "metadata": {
    "scrolled": true
   },
   "outputs": [],
   "source": [
    "base['Fecha'] = pd.to_datetime(base['Fecha'])\n",
    "monedas['FECHA'] = pd.to_datetime(monedas['FECHA'])"
   ]
  },
  {
   "cell_type": "code",
   "execution_count": 9,
   "metadata": {
    "scrolled": true
   },
   "outputs": [],
   "source": [
    "index_date_b = base['Fecha']\n",
    "index_date_m = monedas['FECHA']\n",
    "base.set_index(index_date_b, inplace=True)\n",
    "monedas.set_index(index_date_m, inplace=True)\n",
    "base.rename(columns = {'Fecha':'Date'}, inplace = True) \n",
    "monedas.rename(columns = {'FECHA':'Date'}, inplace = True)"
   ]
  },
  {
   "cell_type": "code",
   "execution_count": 10,
   "metadata": {
    "scrolled": true
   },
   "outputs": [
    {
     "data": {
      "text/html": [
       "<div>\n",
       "<style scoped>\n",
       "    .dataframe tbody tr th:only-of-type {\n",
       "        vertical-align: middle;\n",
       "    }\n",
       "\n",
       "    .dataframe tbody tr th {\n",
       "        vertical-align: top;\n",
       "    }\n",
       "\n",
       "    .dataframe thead th {\n",
       "        text-align: right;\n",
       "    }\n",
       "</style>\n",
       "<table border=\"1\" class=\"dataframe\">\n",
       "  <thead>\n",
       "    <tr style=\"text-align: right;\">\n",
       "      <th></th>\n",
       "      <th>Date</th>\n",
       "      <th>Empresa</th>\n",
       "      <th>Moneda</th>\n",
       "      <th>Ingreso</th>\n",
       "      <th>USD</th>\n",
       "      <th>EURO</th>\n",
       "    </tr>\n",
       "  </thead>\n",
       "  <tbody>\n",
       "    <tr>\n",
       "      <th>2017-01-01</th>\n",
       "      <td>2017-01-01</td>\n",
       "      <td>Empresa A</td>\n",
       "      <td>EURO</td>\n",
       "      <td>0.000137</td>\n",
       "      <td>3000.71</td>\n",
       "      <td>3136.64</td>\n",
       "    </tr>\n",
       "    <tr>\n",
       "      <th>2017-01-01</th>\n",
       "      <td>2017-01-01</td>\n",
       "      <td>Empresa B</td>\n",
       "      <td>EURO</td>\n",
       "      <td>0.000329</td>\n",
       "      <td>3000.71</td>\n",
       "      <td>3136.64</td>\n",
       "    </tr>\n",
       "    <tr>\n",
       "      <th>2017-01-01</th>\n",
       "      <td>2017-01-01</td>\n",
       "      <td>Empresa C</td>\n",
       "      <td>EURO</td>\n",
       "      <td>0.000082</td>\n",
       "      <td>3000.71</td>\n",
       "      <td>3136.64</td>\n",
       "    </tr>\n",
       "    <tr>\n",
       "      <th>2017-01-01</th>\n",
       "      <td>2017-01-01</td>\n",
       "      <td>Empresa A</td>\n",
       "      <td>PESO</td>\n",
       "      <td>183.766913</td>\n",
       "      <td>3000.71</td>\n",
       "      <td>3136.64</td>\n",
       "    </tr>\n",
       "    <tr>\n",
       "      <th>2017-01-01</th>\n",
       "      <td>2017-01-01</td>\n",
       "      <td>Empresa B</td>\n",
       "      <td>PESO</td>\n",
       "      <td>871.384057</td>\n",
       "      <td>3000.71</td>\n",
       "      <td>3136.64</td>\n",
       "    </tr>\n",
       "  </tbody>\n",
       "</table>\n",
       "</div>"
      ],
      "text/plain": [
       "                 Date    Empresa Moneda     Ingreso      USD     EURO\n",
       "2017-01-01 2017-01-01  Empresa A   EURO    0.000137  3000.71  3136.64\n",
       "2017-01-01 2017-01-01  Empresa B   EURO    0.000329  3000.71  3136.64\n",
       "2017-01-01 2017-01-01  Empresa C   EURO    0.000082  3000.71  3136.64\n",
       "2017-01-01 2017-01-01  Empresa A   PESO  183.766913  3000.71  3136.64\n",
       "2017-01-01 2017-01-01  Empresa B   PESO  871.384057  3000.71  3136.64"
      ]
     },
     "execution_count": 10,
     "metadata": {},
     "output_type": "execute_result"
    }
   ],
   "source": [
    "df_unido = pd.merge(base, monedas, on = 'Date', how='inner',left_index=True, right_index= True)\n",
    "df_unido.head()\n",
    "#df_unido.shape\n",
    "\n",
    "\n"
   ]
  },
  {
   "cell_type": "code",
   "execution_count": 15,
   "metadata": {
    "scrolled": true
   },
   "outputs": [
    {
     "data": {
      "text/html": [
       "<div>\n",
       "<style scoped>\n",
       "    .dataframe tbody tr th:only-of-type {\n",
       "        vertical-align: middle;\n",
       "    }\n",
       "\n",
       "    .dataframe tbody tr th {\n",
       "        vertical-align: top;\n",
       "    }\n",
       "\n",
       "    .dataframe thead th {\n",
       "        text-align: right;\n",
       "    }\n",
       "</style>\n",
       "<table border=\"1\" class=\"dataframe\">\n",
       "  <thead>\n",
       "    <tr style=\"text-align: right;\">\n",
       "      <th></th>\n",
       "      <th>Date</th>\n",
       "      <th>Empresa</th>\n",
       "      <th>Moneda</th>\n",
       "      <th>Ingreso</th>\n",
       "      <th>USD</th>\n",
       "      <th>EURO</th>\n",
       "      <th>Ingreso_Total</th>\n",
       "      <th>year</th>\n",
       "      <th>trim</th>\n",
       "    </tr>\n",
       "  </thead>\n",
       "  <tbody>\n",
       "    <tr>\n",
       "      <th>2017-01-01</th>\n",
       "      <td>2017-01-01</td>\n",
       "      <td>Empresa A</td>\n",
       "      <td>EURO</td>\n",
       "      <td>0.000137</td>\n",
       "      <td>3000.71</td>\n",
       "      <td>3136.64</td>\n",
       "      <td>0.430001</td>\n",
       "      <td>2017</td>\n",
       "      <td>2017Q1</td>\n",
       "    </tr>\n",
       "    <tr>\n",
       "      <th>2017-01-01</th>\n",
       "      <td>2017-01-01</td>\n",
       "      <td>Empresa B</td>\n",
       "      <td>EURO</td>\n",
       "      <td>0.000329</td>\n",
       "      <td>3000.71</td>\n",
       "      <td>3136.64</td>\n",
       "      <td>1.032003</td>\n",
       "      <td>2017</td>\n",
       "      <td>2017Q1</td>\n",
       "    </tr>\n",
       "    <tr>\n",
       "      <th>2017-01-01</th>\n",
       "      <td>2017-01-01</td>\n",
       "      <td>Empresa C</td>\n",
       "      <td>EURO</td>\n",
       "      <td>0.000082</td>\n",
       "      <td>3000.71</td>\n",
       "      <td>3136.64</td>\n",
       "      <td>0.258001</td>\n",
       "      <td>2017</td>\n",
       "      <td>2017Q1</td>\n",
       "    </tr>\n",
       "    <tr>\n",
       "      <th>2017-01-01</th>\n",
       "      <td>2017-01-01</td>\n",
       "      <td>Empresa A</td>\n",
       "      <td>PESO</td>\n",
       "      <td>183.766913</td>\n",
       "      <td>3000.71</td>\n",
       "      <td>3136.64</td>\n",
       "      <td>183.766913</td>\n",
       "      <td>2017</td>\n",
       "      <td>2017Q1</td>\n",
       "    </tr>\n",
       "    <tr>\n",
       "      <th>2017-01-01</th>\n",
       "      <td>2017-01-01</td>\n",
       "      <td>Empresa B</td>\n",
       "      <td>PESO</td>\n",
       "      <td>871.384057</td>\n",
       "      <td>3000.71</td>\n",
       "      <td>3136.64</td>\n",
       "      <td>871.384057</td>\n",
       "      <td>2017</td>\n",
       "      <td>2017Q1</td>\n",
       "    </tr>\n",
       "    <tr>\n",
       "      <th>2017-01-01</th>\n",
       "      <td>2017-01-01</td>\n",
       "      <td>Empresa C</td>\n",
       "      <td>PESO</td>\n",
       "      <td>363.767596</td>\n",
       "      <td>3000.71</td>\n",
       "      <td>3136.64</td>\n",
       "      <td>363.767596</td>\n",
       "      <td>2017</td>\n",
       "      <td>2017Q1</td>\n",
       "    </tr>\n",
       "    <tr>\n",
       "      <th>2017-01-01</th>\n",
       "      <td>2017-01-01</td>\n",
       "      <td>Empresa A</td>\n",
       "      <td>USD</td>\n",
       "      <td>0.019537</td>\n",
       "      <td>3000.71</td>\n",
       "      <td>3136.64</td>\n",
       "      <td>58.623491</td>\n",
       "      <td>2017</td>\n",
       "      <td>2017Q1</td>\n",
       "    </tr>\n",
       "    <tr>\n",
       "      <th>2017-01-01</th>\n",
       "      <td>2017-01-01</td>\n",
       "      <td>Empresa B</td>\n",
       "      <td>USD</td>\n",
       "      <td>0.019798</td>\n",
       "      <td>3000.71</td>\n",
       "      <td>3136.64</td>\n",
       "      <td>59.406964</td>\n",
       "      <td>2017</td>\n",
       "      <td>2017Q1</td>\n",
       "    </tr>\n",
       "    <tr>\n",
       "      <th>2017-01-01</th>\n",
       "      <td>2017-01-01</td>\n",
       "      <td>Empresa C</td>\n",
       "      <td>USD</td>\n",
       "      <td>0.007048</td>\n",
       "      <td>3000.71</td>\n",
       "      <td>3136.64</td>\n",
       "      <td>21.149903</td>\n",
       "      <td>2017</td>\n",
       "      <td>2017Q1</td>\n",
       "    </tr>\n",
       "  </tbody>\n",
       "</table>\n",
       "</div>"
      ],
      "text/plain": [
       "                 Date    Empresa Moneda     Ingreso      USD     EURO  \\\n",
       "2017-01-01 2017-01-01  Empresa A   EURO    0.000137  3000.71  3136.64   \n",
       "2017-01-01 2017-01-01  Empresa B   EURO    0.000329  3000.71  3136.64   \n",
       "2017-01-01 2017-01-01  Empresa C   EURO    0.000082  3000.71  3136.64   \n",
       "2017-01-01 2017-01-01  Empresa A   PESO  183.766913  3000.71  3136.64   \n",
       "2017-01-01 2017-01-01  Empresa B   PESO  871.384057  3000.71  3136.64   \n",
       "2017-01-01 2017-01-01  Empresa C   PESO  363.767596  3000.71  3136.64   \n",
       "2017-01-01 2017-01-01  Empresa A    USD    0.019537  3000.71  3136.64   \n",
       "2017-01-01 2017-01-01  Empresa B    USD    0.019798  3000.71  3136.64   \n",
       "2017-01-01 2017-01-01  Empresa C    USD    0.007048  3000.71  3136.64   \n",
       "\n",
       "            Ingreso_Total  year    trim  \n",
       "2017-01-01       0.430001  2017  2017Q1  \n",
       "2017-01-01       1.032003  2017  2017Q1  \n",
       "2017-01-01       0.258001  2017  2017Q1  \n",
       "2017-01-01     183.766913  2017  2017Q1  \n",
       "2017-01-01     871.384057  2017  2017Q1  \n",
       "2017-01-01     363.767596  2017  2017Q1  \n",
       "2017-01-01      58.623491  2017  2017Q1  \n",
       "2017-01-01      59.406964  2017  2017Q1  \n",
       "2017-01-01      21.149903  2017  2017Q1  "
      ]
     },
     "execution_count": 15,
     "metadata": {},
     "output_type": "execute_result"
    }
   ],
   "source": [
    "df = df_unido\n",
    "#df.reset_index(inplace=True)\n",
    "Ingreso_t=[]\n",
    "for i in range(len(df)):\n",
    "    mon = df['Moneda'][i]\n",
    "    ingreso = df['Ingreso'][i]\n",
    "    usd = df['USD'][i]\n",
    "    euro = df['EURO'][i]\n",
    "    if mon=='USD':\n",
    "        ing = ingreso*usd\n",
    "    elif mon=='EURO':\n",
    "        ing = ingreso*euro\n",
    "    else:\n",
    "        ing = ingreso\n",
    "    Ingreso_t.append(ing)\n",
    "\n",
    "df['Ingreso_Total'] = Ingreso_t\n",
    "df['year'] = pd.DatetimeIndex(df['Date']).year\n",
    "df['trim'] = pd.PeriodIndex(df['Date'],freq='Q')\n",
    "df.loc['2017-01-01':'2017-01-01']"
   ]
  },
  {
   "cell_type": "markdown",
   "metadata": {},
   "source": [
    "## Literal a\n",
    "\n",
    "Ingreso por empresa donde la moneda es dólar"
   ]
  },
  {
   "cell_type": "code",
   "execution_count": 16,
   "metadata": {
    "scrolled": true
   },
   "outputs": [
    {
     "data": {
      "text/html": [
       "<div>\n",
       "<style scoped>\n",
       "    .dataframe tbody tr th:only-of-type {\n",
       "        vertical-align: middle;\n",
       "    }\n",
       "\n",
       "    .dataframe tbody tr th {\n",
       "        vertical-align: top;\n",
       "    }\n",
       "\n",
       "    .dataframe thead th {\n",
       "        text-align: right;\n",
       "    }\n",
       "</style>\n",
       "<table border=\"1\" class=\"dataframe\">\n",
       "  <thead>\n",
       "    <tr style=\"text-align: right;\">\n",
       "      <th></th>\n",
       "      <th>Empresa</th>\n",
       "      <th>Moneda</th>\n",
       "      <th>Ingreso_origen</th>\n",
       "      <th>Ingreso_Pesos</th>\n",
       "    </tr>\n",
       "  </thead>\n",
       "  <tbody>\n",
       "    <tr>\n",
       "      <th>0</th>\n",
       "      <td>Empresa A</td>\n",
       "      <td>USD</td>\n",
       "      <td>9.86</td>\n",
       "      <td>28,310.75</td>\n",
       "    </tr>\n",
       "    <tr>\n",
       "      <th>1</th>\n",
       "      <td>Empresa B</td>\n",
       "      <td>USD</td>\n",
       "      <td>15.72</td>\n",
       "      <td>45,344.65</td>\n",
       "    </tr>\n",
       "    <tr>\n",
       "      <th>2</th>\n",
       "      <td>Empresa C</td>\n",
       "      <td>USD</td>\n",
       "      <td>6.22</td>\n",
       "      <td>17,975.47</td>\n",
       "    </tr>\n",
       "  </tbody>\n",
       "</table>\n",
       "</div>"
      ],
      "text/plain": [
       "     Empresa Moneda  Ingreso_origen  Ingreso_Pesos\n",
       "0  Empresa A    USD            9.86      28,310.75\n",
       "1  Empresa B    USD           15.72      45,344.65\n",
       "2  Empresa C    USD            6.22      17,975.47"
      ]
     },
     "execution_count": 16,
     "metadata": {},
     "output_type": "execute_result"
    }
   ],
   "source": [
    "pd.options.display.float_format=\"{:,.2f}\".format\n",
    "ing_dolar = df[df['Moneda']=='USD'].groupby(['Empresa','Moneda']).agg({'Ingreso':['sum'],\n",
    "                                                                       'Ingreso_Total':['sum']\n",
    "                                                                      })\n",
    "ing_dolar.columns =['Ingreso_origen','Ingreso_Pesos']\n",
    "ing_dolar = ing_dolar.reset_index()#.sort_values(by=['Empresa'], ascending=False)\n",
    "ing_dolar"
   ]
  },
  {
   "cell_type": "markdown",
   "metadata": {},
   "source": [
    "## Literal b\n",
    "\n",
    "Ingreso total por moneda de la Empresa A"
   ]
  },
  {
   "cell_type": "code",
   "execution_count": 18,
   "metadata": {
    "scrolled": true
   },
   "outputs": [
    {
     "data": {
      "text/html": [
       "<div>\n",
       "<style scoped>\n",
       "    .dataframe tbody tr th:only-of-type {\n",
       "        vertical-align: middle;\n",
       "    }\n",
       "\n",
       "    .dataframe tbody tr th {\n",
       "        vertical-align: top;\n",
       "    }\n",
       "\n",
       "    .dataframe thead th {\n",
       "        text-align: right;\n",
       "    }\n",
       "</style>\n",
       "<table border=\"1\" class=\"dataframe\">\n",
       "  <thead>\n",
       "    <tr style=\"text-align: right;\">\n",
       "      <th></th>\n",
       "      <th>Moneda</th>\n",
       "      <th>Ingreso_origen</th>\n",
       "      <th>Ingreso_pesos</th>\n",
       "    </tr>\n",
       "  </thead>\n",
       "  <tbody>\n",
       "    <tr>\n",
       "      <th>0</th>\n",
       "      <td>PESO</td>\n",
       "      <td>71,668.07</td>\n",
       "      <td>71,668.07</td>\n",
       "    </tr>\n",
       "    <tr>\n",
       "      <th>1</th>\n",
       "      <td>USD</td>\n",
       "      <td>9.86</td>\n",
       "      <td>28,310.75</td>\n",
       "    </tr>\n",
       "    <tr>\n",
       "      <th>2</th>\n",
       "      <td>EURO</td>\n",
       "      <td>0.58</td>\n",
       "      <td>1,697.57</td>\n",
       "    </tr>\n",
       "  </tbody>\n",
       "</table>\n",
       "</div>"
      ],
      "text/plain": [
       "  Moneda  Ingreso_origen  Ingreso_pesos\n",
       "0   PESO       71,668.07      71,668.07\n",
       "1    USD            9.86      28,310.75\n",
       "2   EURO            0.58       1,697.57"
      ]
     },
     "execution_count": 18,
     "metadata": {},
     "output_type": "execute_result"
    }
   ],
   "source": [
    "pd.options.display.float_format=\"{:,.2f}\".format\n",
    "ing_empa = df[df['Empresa']=='Empresa A'].groupby(['Moneda']).agg({'Ingreso':['sum'],\n",
    "                                                                       'Ingreso_Total':['sum']\n",
    "                                                                      })\n",
    "ing_empa.columns =['Ingreso_origen','Ingreso_pesos']\n",
    "ing_empa = ing_empa.sort_values(by=['Ingreso_origen'], ascending=False).reset_index()\n",
    "ing_empa"
   ]
  },
  {
   "cell_type": "markdown",
   "metadata": {},
   "source": [
    "## Literal c\n",
    "\n",
    "Empresa con los menores ingresos en pesos semestre 01/01/2017 - \n",
    "30/06/2017"
   ]
  },
  {
   "cell_type": "code",
   "execution_count": 88,
   "metadata": {
    "scrolled": true
   },
   "outputs": [
    {
     "data": {
      "text/html": [
       "<div>\n",
       "<style scoped>\n",
       "    .dataframe tbody tr th:only-of-type {\n",
       "        vertical-align: middle;\n",
       "    }\n",
       "\n",
       "    .dataframe tbody tr th {\n",
       "        vertical-align: top;\n",
       "    }\n",
       "\n",
       "    .dataframe thead th {\n",
       "        text-align: right;\n",
       "    }\n",
       "</style>\n",
       "<table border=\"1\" class=\"dataframe\">\n",
       "  <thead>\n",
       "    <tr style=\"text-align: right;\">\n",
       "      <th></th>\n",
       "      <th>Ingreso_pesos</th>\n",
       "    </tr>\n",
       "    <tr>\n",
       "      <th>Empresa</th>\n",
       "      <th></th>\n",
       "    </tr>\n",
       "  </thead>\n",
       "  <tbody>\n",
       "    <tr>\n",
       "      <th>Empresa A</th>\n",
       "      <td>58,616.55</td>\n",
       "    </tr>\n",
       "    <tr>\n",
       "      <th>Empresa B</th>\n",
       "      <td>204,309.79</td>\n",
       "    </tr>\n",
       "    <tr>\n",
       "      <th>Empresa C</th>\n",
       "      <td>87,692.79</td>\n",
       "    </tr>\n",
       "  </tbody>\n",
       "</table>\n",
       "</div>"
      ],
      "text/plain": [
       "           Ingreso_pesos\n",
       "Empresa                 \n",
       "Empresa A      58,616.55\n",
       "Empresa B     204,309.79\n",
       "Empresa C      87,692.79"
      ]
     },
     "execution_count": 88,
     "metadata": {},
     "output_type": "execute_result"
    }
   ],
   "source": [
    "df_sem = df.loc['2017-01-01':'2017-06-29']\n",
    "df_sem.shape\n",
    "ing_sem_pesos = df_sem.groupby(['Empresa']).agg({'Ingreso_Total':['sum']})\n",
    "ing_sem_pesos.columns =['Ingreso_pesos']\n",
    "ing_sem_pesos\n"
   ]
  },
  {
   "cell_type": "markdown",
   "metadata": {},
   "source": [
    "## Literal d\n",
    "\n",
    "Ingreso para todos los trimestres del año 2017 en PESOS de cada una de las empresas"
   ]
  },
  {
   "cell_type": "code",
   "execution_count": 23,
   "metadata": {
    "scrolled": true
   },
   "outputs": [
    {
     "data": {
      "text/html": [
       "<div>\n",
       "<style scoped>\n",
       "    .dataframe tbody tr th:only-of-type {\n",
       "        vertical-align: middle;\n",
       "    }\n",
       "\n",
       "    .dataframe tbody tr th {\n",
       "        vertical-align: top;\n",
       "    }\n",
       "\n",
       "    .dataframe thead th {\n",
       "        text-align: right;\n",
       "    }\n",
       "</style>\n",
       "<table border=\"1\" class=\"dataframe\">\n",
       "  <thead>\n",
       "    <tr style=\"text-align: right;\">\n",
       "      <th></th>\n",
       "      <th></th>\n",
       "      <th>Ingreso_Total_pesos</th>\n",
       "    </tr>\n",
       "    <tr>\n",
       "      <th>Empresa</th>\n",
       "      <th>trim</th>\n",
       "      <th></th>\n",
       "    </tr>\n",
       "  </thead>\n",
       "  <tbody>\n",
       "    <tr>\n",
       "      <th rowspan=\"4\" valign=\"top\">Empresa A</th>\n",
       "      <th>2017Q1</th>\n",
       "      <td>40,935.40</td>\n",
       "    </tr>\n",
       "    <tr>\n",
       "      <th>2017Q2</th>\n",
       "      <td>17,054.93</td>\n",
       "    </tr>\n",
       "    <tr>\n",
       "      <th>2017Q3</th>\n",
       "      <td>15,938.75</td>\n",
       "    </tr>\n",
       "    <tr>\n",
       "      <th>2017Q4</th>\n",
       "      <td>27,747.31</td>\n",
       "    </tr>\n",
       "    <tr>\n",
       "      <th rowspan=\"4\" valign=\"top\">Empresa B</th>\n",
       "      <th>2017Q1</th>\n",
       "      <td>121,246.16</td>\n",
       "    </tr>\n",
       "    <tr>\n",
       "      <th>2017Q2</th>\n",
       "      <td>83,766.16</td>\n",
       "    </tr>\n",
       "    <tr>\n",
       "      <th>2017Q3</th>\n",
       "      <td>72,530.68</td>\n",
       "    </tr>\n",
       "    <tr>\n",
       "      <th>2017Q4</th>\n",
       "      <td>98,205.41</td>\n",
       "    </tr>\n",
       "    <tr>\n",
       "      <th rowspan=\"4\" valign=\"top\">Empresa C</th>\n",
       "      <th>2017Q1</th>\n",
       "      <td>50,864.92</td>\n",
       "    </tr>\n",
       "    <tr>\n",
       "      <th>2017Q2</th>\n",
       "      <td>37,413.40</td>\n",
       "    </tr>\n",
       "    <tr>\n",
       "      <th>2017Q3</th>\n",
       "      <td>29,732.70</td>\n",
       "    </tr>\n",
       "    <tr>\n",
       "      <th>2017Q4</th>\n",
       "      <td>43,739.65</td>\n",
       "    </tr>\n",
       "  </tbody>\n",
       "</table>\n",
       "</div>"
      ],
      "text/plain": [
       "                  Ingreso_Total_pesos\n",
       "Empresa   trim                       \n",
       "Empresa A 2017Q1            40,935.40\n",
       "          2017Q2            17,054.93\n",
       "          2017Q3            15,938.75\n",
       "          2017Q4            27,747.31\n",
       "Empresa B 2017Q1           121,246.16\n",
       "          2017Q2            83,766.16\n",
       "          2017Q3            72,530.68\n",
       "          2017Q4            98,205.41\n",
       "Empresa C 2017Q1            50,864.92\n",
       "          2017Q2            37,413.40\n",
       "          2017Q3            29,732.70\n",
       "          2017Q4            43,739.65"
      ]
     },
     "execution_count": 23,
     "metadata": {},
     "output_type": "execute_result"
    }
   ],
   "source": [
    "ing_trim_pesos = df.groupby(['Empresa','trim']).agg({'Ingreso_Total':['sum']})\n",
    "ing_trim_pesos.columns =['Ingreso_Total_pesos']\n",
    "ing_trim_pesos"
   ]
  },
  {
   "cell_type": "markdown",
   "metadata": {},
   "source": [
    "## Literal e\n",
    "\n",
    "Ingreso acumulado 2017 en PESOS desagregado por empresa y moneda"
   ]
  },
  {
   "cell_type": "code",
   "execution_count": 24,
   "metadata": {
    "scrolled": true
   },
   "outputs": [
    {
     "data": {
      "text/html": [
       "<div>\n",
       "<style scoped>\n",
       "    .dataframe tbody tr th:only-of-type {\n",
       "        vertical-align: middle;\n",
       "    }\n",
       "\n",
       "    .dataframe tbody tr th {\n",
       "        vertical-align: top;\n",
       "    }\n",
       "\n",
       "    .dataframe thead th {\n",
       "        text-align: right;\n",
       "    }\n",
       "</style>\n",
       "<table border=\"1\" class=\"dataframe\">\n",
       "  <thead>\n",
       "    <tr style=\"text-align: right;\">\n",
       "      <th></th>\n",
       "      <th></th>\n",
       "      <th></th>\n",
       "      <th>Ingreso_Total_pesos</th>\n",
       "    </tr>\n",
       "    <tr>\n",
       "      <th>year</th>\n",
       "      <th>Empresa</th>\n",
       "      <th>Moneda</th>\n",
       "      <th></th>\n",
       "    </tr>\n",
       "  </thead>\n",
       "  <tbody>\n",
       "    <tr>\n",
       "      <th rowspan=\"9\" valign=\"top\">2017</th>\n",
       "      <th rowspan=\"3\" valign=\"top\">Empresa A</th>\n",
       "      <th>EURO</th>\n",
       "      <td>1,697.57</td>\n",
       "    </tr>\n",
       "    <tr>\n",
       "      <th>PESO</th>\n",
       "      <td>71,668.07</td>\n",
       "    </tr>\n",
       "    <tr>\n",
       "      <th>USD</th>\n",
       "      <td>28,310.75</td>\n",
       "    </tr>\n",
       "    <tr>\n",
       "      <th rowspan=\"3\" valign=\"top\">Empresa B</th>\n",
       "      <th>EURO</th>\n",
       "      <td>3,160.44</td>\n",
       "    </tr>\n",
       "    <tr>\n",
       "      <th>PESO</th>\n",
       "      <td>327,243.32</td>\n",
       "    </tr>\n",
       "    <tr>\n",
       "      <th>USD</th>\n",
       "      <td>45,344.65</td>\n",
       "    </tr>\n",
       "    <tr>\n",
       "      <th rowspan=\"3\" valign=\"top\">Empresa C</th>\n",
       "      <th>EURO</th>\n",
       "      <td>1,037.17</td>\n",
       "    </tr>\n",
       "    <tr>\n",
       "      <th>PESO</th>\n",
       "      <td>142,738.04</td>\n",
       "    </tr>\n",
       "    <tr>\n",
       "      <th>USD</th>\n",
       "      <td>17,975.47</td>\n",
       "    </tr>\n",
       "  </tbody>\n",
       "</table>\n",
       "</div>"
      ],
      "text/plain": [
       "                       Ingreso_Total_pesos\n",
       "year Empresa   Moneda                     \n",
       "2017 Empresa A EURO               1,697.57\n",
       "               PESO              71,668.07\n",
       "               USD               28,310.75\n",
       "     Empresa B EURO               3,160.44\n",
       "               PESO             327,243.32\n",
       "               USD               45,344.65\n",
       "     Empresa C EURO               1,037.17\n",
       "               PESO             142,738.04\n",
       "               USD               17,975.47"
      ]
     },
     "execution_count": 24,
     "metadata": {},
     "output_type": "execute_result"
    }
   ],
   "source": [
    "ing_year_pesos = df.groupby(['year','Empresa','Moneda']).agg({'Ingreso_Total':['sum']})\n",
    "ing_year_pesos.columns =['Ingreso_Total_pesos']\n",
    "ing_year_pesos"
   ]
  },
  {
   "cell_type": "code",
   "execution_count": null,
   "metadata": {},
   "outputs": [],
   "source": []
  }
 ],
 "metadata": {
  "kernelspec": {
   "display_name": "Python 3",
   "language": "python",
   "name": "python3"
  },
  "language_info": {
   "codemirror_mode": {
    "name": "ipython",
    "version": 3
   },
   "file_extension": ".py",
   "mimetype": "text/x-python",
   "name": "python",
   "nbconvert_exporter": "python",
   "pygments_lexer": "ipython3",
   "version": "3.8.3"
  }
 },
 "nbformat": 4,
 "nbformat_minor": 4
}
