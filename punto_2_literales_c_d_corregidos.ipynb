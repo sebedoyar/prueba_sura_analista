{
 "cells": [
  {
   "cell_type": "code",
   "execution_count": 1,
   "metadata": {},
   "outputs": [],
   "source": [
    "import pandas as pd\n",
    "import numpy as np\n",
    "import seaborn as sns\n",
    "import matplotlib.pyplot as plt"
   ]
  },
  {
   "cell_type": "code",
   "execution_count": 2,
   "metadata": {},
   "outputs": [],
   "source": [
    "base = pd.read_csv(\"BASE.txt\",sep=\";\")\n",
    "monedas = pd.read_csv(\"Monedas.txt\", sep=\";\")"
   ]
  },
  {
   "cell_type": "code",
   "execution_count": 3,
   "metadata": {},
   "outputs": [],
   "source": [
    "base = base.replace({'Empresa': {'EmpresaC':'Empresa C','Empesa B':'Empresa B'}})"
   ]
  },
  {
   "cell_type": "code",
   "execution_count": 4,
   "metadata": {},
   "outputs": [
    {
     "name": "stdout",
     "output_type": "stream",
     "text": [
      "(3383, 4)\n"
     ]
    },
    {
     "data": {
      "text/plain": [
       "(365, 3)"
      ]
     },
     "execution_count": 4,
     "metadata": {},
     "output_type": "execute_result"
    }
   ],
   "source": [
    "base.rename(columns = {'Fecha':'Date'}, inplace = True) \n",
    "monedas.rename(columns = {'FECHA':'Date'}, inplace = True)\n",
    "print(base.shape)\n",
    "monedas.shape"
   ]
  },
  {
   "cell_type": "code",
   "execution_count": 5,
   "metadata": {},
   "outputs": [
    {
     "data": {
      "text/plain": [
       "Index(['Date', 'Empresa', 'Moneda', 'Ingreso'], dtype='object')"
      ]
     },
     "execution_count": 5,
     "metadata": {},
     "output_type": "execute_result"
    }
   ],
   "source": [
    "base.columns"
   ]
  },
  {
   "cell_type": "code",
   "execution_count": 6,
   "metadata": {},
   "outputs": [
    {
     "data": {
      "text/plain": [
       "(3383, 6)"
      ]
     },
     "execution_count": 6,
     "metadata": {},
     "output_type": "execute_result"
    }
   ],
   "source": [
    "df_unido = pd.merge(base, monedas, on = 'Date', how='inner',left_index=True)\n",
    "df_unido.shape"
   ]
  },
  {
   "cell_type": "code",
   "execution_count": 7,
   "metadata": {},
   "outputs": [
    {
     "data": {
      "text/plain": [
       "Date        object\n",
       "Empresa     object\n",
       "Moneda      object\n",
       "Ingreso    float64\n",
       "USD        float64\n",
       "EURO       float64\n",
       "dtype: object"
      ]
     },
     "execution_count": 7,
     "metadata": {},
     "output_type": "execute_result"
    }
   ],
   "source": [
    "df_unido.dtypes"
   ]
  },
  {
   "cell_type": "code",
   "execution_count": 8,
   "metadata": {},
   "outputs": [],
   "source": [
    "df_unido['year'] = pd.to_datetime(df_unido['Date']).dt.year\n",
    "df_unido['trim'] = pd.to_datetime(df_unido['Date']).dt.quarter"
   ]
  },
  {
   "cell_type": "code",
   "execution_count": 9,
   "metadata": {},
   "outputs": [
    {
     "data": {
      "text/plain": [
       "Date        object\n",
       "Empresa     object\n",
       "Moneda      object\n",
       "Ingreso    float64\n",
       "USD        float64\n",
       "EURO       float64\n",
       "year         int64\n",
       "trim         int64\n",
       "dtype: object"
      ]
     },
     "execution_count": 9,
     "metadata": {},
     "output_type": "execute_result"
    }
   ],
   "source": [
    "df_unido.dtypes"
   ]
  },
  {
   "cell_type": "code",
   "execution_count": 10,
   "metadata": {},
   "outputs": [
    {
     "data": {
      "text/html": [
       "<div>\n",
       "<style scoped>\n",
       "    .dataframe tbody tr th:only-of-type {\n",
       "        vertical-align: middle;\n",
       "    }\n",
       "\n",
       "    .dataframe tbody tr th {\n",
       "        vertical-align: top;\n",
       "    }\n",
       "\n",
       "    .dataframe thead th {\n",
       "        text-align: right;\n",
       "    }\n",
       "</style>\n",
       "<table border=\"1\" class=\"dataframe\">\n",
       "  <thead>\n",
       "    <tr style=\"text-align: right;\">\n",
       "      <th></th>\n",
       "      <th>Date</th>\n",
       "      <th>Empresa</th>\n",
       "      <th>Moneda</th>\n",
       "      <th>Ingreso</th>\n",
       "      <th>USD</th>\n",
       "      <th>EURO</th>\n",
       "      <th>year</th>\n",
       "      <th>trim</th>\n",
       "    </tr>\n",
       "  </thead>\n",
       "  <tbody>\n",
       "    <tr>\n",
       "      <th>0</th>\n",
       "      <td>01/01/2017</td>\n",
       "      <td>Empresa A</td>\n",
       "      <td>EURO</td>\n",
       "      <td>0.000137</td>\n",
       "      <td>3000.71</td>\n",
       "      <td>3136.64</td>\n",
       "      <td>2017</td>\n",
       "      <td>1</td>\n",
       "    </tr>\n",
       "    <tr>\n",
       "      <th>0</th>\n",
       "      <td>01/01/2017</td>\n",
       "      <td>Empresa B</td>\n",
       "      <td>EURO</td>\n",
       "      <td>0.000329</td>\n",
       "      <td>3000.71</td>\n",
       "      <td>3136.64</td>\n",
       "      <td>2017</td>\n",
       "      <td>1</td>\n",
       "    </tr>\n",
       "    <tr>\n",
       "      <th>0</th>\n",
       "      <td>01/01/2017</td>\n",
       "      <td>Empresa C</td>\n",
       "      <td>EURO</td>\n",
       "      <td>0.000082</td>\n",
       "      <td>3000.71</td>\n",
       "      <td>3136.64</td>\n",
       "      <td>2017</td>\n",
       "      <td>1</td>\n",
       "    </tr>\n",
       "    <tr>\n",
       "      <th>0</th>\n",
       "      <td>01/01/2017</td>\n",
       "      <td>Empresa A</td>\n",
       "      <td>PESO</td>\n",
       "      <td>183.766913</td>\n",
       "      <td>3000.71</td>\n",
       "      <td>3136.64</td>\n",
       "      <td>2017</td>\n",
       "      <td>1</td>\n",
       "    </tr>\n",
       "    <tr>\n",
       "      <th>0</th>\n",
       "      <td>01/01/2017</td>\n",
       "      <td>Empresa B</td>\n",
       "      <td>PESO</td>\n",
       "      <td>871.384057</td>\n",
       "      <td>3000.71</td>\n",
       "      <td>3136.64</td>\n",
       "      <td>2017</td>\n",
       "      <td>1</td>\n",
       "    </tr>\n",
       "  </tbody>\n",
       "</table>\n",
       "</div>"
      ],
      "text/plain": [
       "         Date    Empresa Moneda     Ingreso      USD     EURO  year  trim\n",
       "0  01/01/2017  Empresa A   EURO    0.000137  3000.71  3136.64  2017     1\n",
       "0  01/01/2017  Empresa B   EURO    0.000329  3000.71  3136.64  2017     1\n",
       "0  01/01/2017  Empresa C   EURO    0.000082  3000.71  3136.64  2017     1\n",
       "0  01/01/2017  Empresa A   PESO  183.766913  3000.71  3136.64  2017     1\n",
       "0  01/01/2017  Empresa B   PESO  871.384057  3000.71  3136.64  2017     1"
      ]
     },
     "execution_count": 10,
     "metadata": {},
     "output_type": "execute_result"
    }
   ],
   "source": [
    "df_unido.head()"
   ]
  },
  {
   "cell_type": "code",
   "execution_count": 12,
   "metadata": {},
   "outputs": [
    {
     "data": {
      "text/plain": [
       "Date               object\n",
       "Empresa            object\n",
       "Moneda             object\n",
       "Ingreso           float64\n",
       "USD               float64\n",
       "EURO              float64\n",
       "year                int64\n",
       "trim                int64\n",
       "fecha1     datetime64[ns]\n",
       "dtype: object"
      ]
     },
     "execution_count": 12,
     "metadata": {},
     "output_type": "execute_result"
    }
   ],
   "source": [
    "df_unido['fecha1'] = pd.to_datetime(df_unido['Date'], format='%d/%m/%Y')\n",
    "df_unido.dtypes"
   ]
  },
  {
   "cell_type": "code",
   "execution_count": 13,
   "metadata": {},
   "outputs": [],
   "source": [
    "df_unido['trim1'] = pd.to_datetime(df_unido['fecha1']).dt.quarter"
   ]
  },
  {
   "cell_type": "code",
   "execution_count": 16,
   "metadata": {},
   "outputs": [
    {
     "data": {
      "text/html": [
       "<div>\n",
       "<style scoped>\n",
       "    .dataframe tbody tr th:only-of-type {\n",
       "        vertical-align: middle;\n",
       "    }\n",
       "\n",
       "    .dataframe tbody tr th {\n",
       "        vertical-align: top;\n",
       "    }\n",
       "\n",
       "    .dataframe thead th {\n",
       "        text-align: right;\n",
       "    }\n",
       "</style>\n",
       "<table border=\"1\" class=\"dataframe\">\n",
       "  <thead>\n",
       "    <tr style=\"text-align: right;\">\n",
       "      <th></th>\n",
       "      <th>Date</th>\n",
       "      <th>Empresa</th>\n",
       "      <th>Moneda</th>\n",
       "      <th>Ingreso</th>\n",
       "      <th>USD</th>\n",
       "      <th>EURO</th>\n",
       "      <th>year</th>\n",
       "      <th>trim</th>\n",
       "      <th>fecha1</th>\n",
       "      <th>trim1</th>\n",
       "    </tr>\n",
       "  </thead>\n",
       "  <tbody>\n",
       "    <tr>\n",
       "      <th>90</th>\n",
       "      <td>01/04/2017</td>\n",
       "      <td>Empresa A</td>\n",
       "      <td>EURO</td>\n",
       "      <td>0.000118</td>\n",
       "      <td>2885.57</td>\n",
       "      <td>3084.96</td>\n",
       "      <td>2017</td>\n",
       "      <td>1</td>\n",
       "      <td>2017-04-01</td>\n",
       "      <td>2</td>\n",
       "    </tr>\n",
       "    <tr>\n",
       "      <th>90</th>\n",
       "      <td>01/04/2017</td>\n",
       "      <td>Empresa B</td>\n",
       "      <td>EURO</td>\n",
       "      <td>0.000118</td>\n",
       "      <td>2885.57</td>\n",
       "      <td>3084.96</td>\n",
       "      <td>2017</td>\n",
       "      <td>1</td>\n",
       "      <td>2017-04-01</td>\n",
       "      <td>2</td>\n",
       "    </tr>\n",
       "    <tr>\n",
       "      <th>90</th>\n",
       "      <td>01/04/2017</td>\n",
       "      <td>Empresa C</td>\n",
       "      <td>EURO</td>\n",
       "      <td>0.000071</td>\n",
       "      <td>2885.57</td>\n",
       "      <td>3084.96</td>\n",
       "      <td>2017</td>\n",
       "      <td>1</td>\n",
       "      <td>2017-04-01</td>\n",
       "      <td>2</td>\n",
       "    </tr>\n",
       "    <tr>\n",
       "      <th>90</th>\n",
       "      <td>01/04/2017</td>\n",
       "      <td>Empresa A</td>\n",
       "      <td>PESO</td>\n",
       "      <td>174.953474</td>\n",
       "      <td>2885.57</td>\n",
       "      <td>3084.96</td>\n",
       "      <td>2017</td>\n",
       "      <td>1</td>\n",
       "      <td>2017-04-01</td>\n",
       "      <td>2</td>\n",
       "    </tr>\n",
       "    <tr>\n",
       "      <th>90</th>\n",
       "      <td>01/04/2017</td>\n",
       "      <td>Empresa B</td>\n",
       "      <td>PESO</td>\n",
       "      <td>828.180246</td>\n",
       "      <td>2885.57</td>\n",
       "      <td>3084.96</td>\n",
       "      <td>2017</td>\n",
       "      <td>1</td>\n",
       "      <td>2017-04-01</td>\n",
       "      <td>2</td>\n",
       "    </tr>\n",
       "    <tr>\n",
       "      <th>90</th>\n",
       "      <td>01/04/2017</td>\n",
       "      <td>Empresa C</td>\n",
       "      <td>PESO</td>\n",
       "      <td>342.791651</td>\n",
       "      <td>2885.57</td>\n",
       "      <td>3084.96</td>\n",
       "      <td>2017</td>\n",
       "      <td>1</td>\n",
       "      <td>2017-04-01</td>\n",
       "      <td>2</td>\n",
       "    </tr>\n",
       "    <tr>\n",
       "      <th>90</th>\n",
       "      <td>01/04/2017</td>\n",
       "      <td>Empresa A</td>\n",
       "      <td>USD</td>\n",
       "      <td>0.015233</td>\n",
       "      <td>2885.57</td>\n",
       "      <td>3084.96</td>\n",
       "      <td>2017</td>\n",
       "      <td>1</td>\n",
       "      <td>2017-04-01</td>\n",
       "      <td>2</td>\n",
       "    </tr>\n",
       "    <tr>\n",
       "      <th>90</th>\n",
       "      <td>01/04/2017</td>\n",
       "      <td>Empresa B</td>\n",
       "      <td>USD</td>\n",
       "      <td>0.020325</td>\n",
       "      <td>2885.57</td>\n",
       "      <td>3084.96</td>\n",
       "      <td>2017</td>\n",
       "      <td>1</td>\n",
       "      <td>2017-04-01</td>\n",
       "      <td>2</td>\n",
       "    </tr>\n",
       "    <tr>\n",
       "      <th>90</th>\n",
       "      <td>01/04/2017</td>\n",
       "      <td>Empresa C</td>\n",
       "      <td>USD</td>\n",
       "      <td>0.007519</td>\n",
       "      <td>2885.57</td>\n",
       "      <td>3084.96</td>\n",
       "      <td>2017</td>\n",
       "      <td>1</td>\n",
       "      <td>2017-04-01</td>\n",
       "      <td>2</td>\n",
       "    </tr>\n",
       "  </tbody>\n",
       "</table>\n",
       "</div>"
      ],
      "text/plain": [
       "          Date    Empresa Moneda     Ingreso      USD     EURO  year  trim  \\\n",
       "90  01/04/2017  Empresa A   EURO    0.000118  2885.57  3084.96  2017     1   \n",
       "90  01/04/2017  Empresa B   EURO    0.000118  2885.57  3084.96  2017     1   \n",
       "90  01/04/2017  Empresa C   EURO    0.000071  2885.57  3084.96  2017     1   \n",
       "90  01/04/2017  Empresa A   PESO  174.953474  2885.57  3084.96  2017     1   \n",
       "90  01/04/2017  Empresa B   PESO  828.180246  2885.57  3084.96  2017     1   \n",
       "90  01/04/2017  Empresa C   PESO  342.791651  2885.57  3084.96  2017     1   \n",
       "90  01/04/2017  Empresa A    USD    0.015233  2885.57  3084.96  2017     1   \n",
       "90  01/04/2017  Empresa B    USD    0.020325  2885.57  3084.96  2017     1   \n",
       "90  01/04/2017  Empresa C    USD    0.007519  2885.57  3084.96  2017     1   \n",
       "\n",
       "       fecha1  trim1  \n",
       "90 2017-04-01      2  \n",
       "90 2017-04-01      2  \n",
       "90 2017-04-01      2  \n",
       "90 2017-04-01      2  \n",
       "90 2017-04-01      2  \n",
       "90 2017-04-01      2  \n",
       "90 2017-04-01      2  \n",
       "90 2017-04-01      2  \n",
       "90 2017-04-01      2  "
      ]
     },
     "execution_count": 16,
     "metadata": {},
     "output_type": "execute_result"
    }
   ],
   "source": [
    "df_unido.loc[df_unido['Date']=='01/04/2017']"
   ]
  },
  {
   "cell_type": "code",
   "execution_count": 17,
   "metadata": {},
   "outputs": [],
   "source": [
    "df = df_unido\n",
    "df.reset_index(inplace=True)\n",
    "Ingreso_t=[]\n",
    "for i in range(len(df)):\n",
    "    mon = df['Moneda'][i]\n",
    "    ingreso = df['Ingreso'][i]\n",
    "    usd = df['USD'][i]\n",
    "    euro = df['EURO'][i]\n",
    "    if mon=='USD':\n",
    "        ing = ingreso*usd\n",
    "    elif mon=='EURO':\n",
    "        ing = ingreso*euro\n",
    "    else:\n",
    "        ing = ingreso\n",
    "    Ingreso_t.append(ing)\n",
    "\n",
    "df['Ingreso_Total'] = Ingreso_t\n"
   ]
  },
  {
   "cell_type": "code",
   "execution_count": 18,
   "metadata": {},
   "outputs": [
    {
     "data": {
      "text/html": [
       "<div>\n",
       "<style scoped>\n",
       "    .dataframe tbody tr th:only-of-type {\n",
       "        vertical-align: middle;\n",
       "    }\n",
       "\n",
       "    .dataframe tbody tr th {\n",
       "        vertical-align: top;\n",
       "    }\n",
       "\n",
       "    .dataframe thead th {\n",
       "        text-align: right;\n",
       "    }\n",
       "</style>\n",
       "<table border=\"1\" class=\"dataframe\">\n",
       "  <thead>\n",
       "    <tr style=\"text-align: right;\">\n",
       "      <th></th>\n",
       "      <th></th>\n",
       "      <th>Ingreso_Total_pesos</th>\n",
       "    </tr>\n",
       "    <tr>\n",
       "      <th>Empresa</th>\n",
       "      <th>trim1</th>\n",
       "      <th></th>\n",
       "    </tr>\n",
       "  </thead>\n",
       "  <tbody>\n",
       "    <tr>\n",
       "      <th rowspan=\"4\" valign=\"top\">Empresa A</th>\n",
       "      <th>1</th>\n",
       "      <td>39,602.50</td>\n",
       "    </tr>\n",
       "    <tr>\n",
       "      <th>2</th>\n",
       "      <td>15,923.16</td>\n",
       "    </tr>\n",
       "    <tr>\n",
       "      <th>3</th>\n",
       "      <td>24,539.74</td>\n",
       "    </tr>\n",
       "    <tr>\n",
       "      <th>4</th>\n",
       "      <td>21,610.99</td>\n",
       "    </tr>\n",
       "    <tr>\n",
       "      <th rowspan=\"4\" valign=\"top\">Empresa B</th>\n",
       "      <th>1</th>\n",
       "      <td>118,815.80</td>\n",
       "    </tr>\n",
       "    <tr>\n",
       "      <th>2</th>\n",
       "      <td>81,849.51</td>\n",
       "    </tr>\n",
       "    <tr>\n",
       "      <th>3</th>\n",
       "      <td>82,643.15</td>\n",
       "    </tr>\n",
       "    <tr>\n",
       "      <th>4</th>\n",
       "      <td>92,439.95</td>\n",
       "    </tr>\n",
       "    <tr>\n",
       "      <th rowspan=\"4\" valign=\"top\">Empresa C</th>\n",
       "      <th>1</th>\n",
       "      <td>50,244.52</td>\n",
       "    </tr>\n",
       "    <tr>\n",
       "      <th>2</th>\n",
       "      <td>36,663.35</td>\n",
       "    </tr>\n",
       "    <tr>\n",
       "      <th>3</th>\n",
       "      <td>31,680.54</td>\n",
       "    </tr>\n",
       "    <tr>\n",
       "      <th>4</th>\n",
       "      <td>43,162.27</td>\n",
       "    </tr>\n",
       "  </tbody>\n",
       "</table>\n",
       "</div>"
      ],
      "text/plain": [
       "                 Ingreso_Total_pesos\n",
       "Empresa   trim1                     \n",
       "Empresa A 1                39,602.50\n",
       "          2                15,923.16\n",
       "          3                24,539.74\n",
       "          4                21,610.99\n",
       "Empresa B 1               118,815.80\n",
       "          2                81,849.51\n",
       "          3                82,643.15\n",
       "          4                92,439.95\n",
       "Empresa C 1                50,244.52\n",
       "          2                36,663.35\n",
       "          3                31,680.54\n",
       "          4                43,162.27"
      ]
     },
     "execution_count": 18,
     "metadata": {},
     "output_type": "execute_result"
    }
   ],
   "source": [
    "pd.options.display.float_format=\"{:,.2f}\".format\n",
    "ing_trim_pesos = df.groupby(['Empresa','trim1']).agg({'Ingreso_Total':['sum']})\n",
    "ing_trim_pesos.columns =['Ingreso_Total_pesos']\n",
    "ing_trim_pesos"
   ]
  },
  {
   "cell_type": "code",
   "execution_count": 28,
   "metadata": {},
   "outputs": [
    {
     "data": {
      "text/html": [
       "<div>\n",
       "<style scoped>\n",
       "    .dataframe tbody tr th:only-of-type {\n",
       "        vertical-align: middle;\n",
       "    }\n",
       "\n",
       "    .dataframe tbody tr th {\n",
       "        vertical-align: top;\n",
       "    }\n",
       "\n",
       "    .dataframe thead th {\n",
       "        text-align: right;\n",
       "    }\n",
       "</style>\n",
       "<table border=\"1\" class=\"dataframe\">\n",
       "  <thead>\n",
       "    <tr style=\"text-align: right;\">\n",
       "      <th></th>\n",
       "      <th>Ingreso_pesos</th>\n",
       "      <th>Cantidad_trx</th>\n",
       "    </tr>\n",
       "    <tr>\n",
       "      <th>Empresa</th>\n",
       "      <th></th>\n",
       "      <th></th>\n",
       "    </tr>\n",
       "  </thead>\n",
       "  <tbody>\n",
       "    <tr>\n",
       "      <th>Empresa A</th>\n",
       "      <td>55,525.66</td>\n",
       "      <td>543</td>\n",
       "    </tr>\n",
       "    <tr>\n",
       "      <th>Empresa B</th>\n",
       "      <td>200,665.32</td>\n",
       "      <td>543</td>\n",
       "    </tr>\n",
       "    <tr>\n",
       "      <th>Empresa C</th>\n",
       "      <td>86,907.87</td>\n",
       "      <td>573</td>\n",
       "    </tr>\n",
       "  </tbody>\n",
       "</table>\n",
       "</div>"
      ],
      "text/plain": [
       "           Ingreso_pesos  Cantidad_trx\n",
       "Empresa                               \n",
       "Empresa A      55,525.66           543\n",
       "Empresa B     200,665.32           543\n",
       "Empresa C      86,907.87           573"
      ]
     },
     "execution_count": 28,
     "metadata": {},
     "output_type": "execute_result"
    }
   ],
   "source": [
    "#df_sem = df.loc[df['fecha1']<='2017-06-30']\n",
    "df_sem = df.loc[(df['fecha1']>='2017-01-01')&(df['fecha1']<='2017-06-30')]\n",
    "df_sem.shape\n",
    "ing_sem_pesos = df_sem.groupby(['Empresa']).agg({'Ingreso_Total':['sum','count']})\n",
    "ing_sem_pesos.columns =['Ingreso_pesos', 'Cantidad_trx']\n",
    "ing_sem_pesos\n"
   ]
  },
  {
   "cell_type": "code",
   "execution_count": null,
   "metadata": {},
   "outputs": [],
   "source": []
  }
 ],
 "metadata": {
  "kernelspec": {
   "display_name": "Python 3",
   "language": "python",
   "name": "python3"
  },
  "language_info": {
   "codemirror_mode": {
    "name": "ipython",
    "version": 3
   },
   "file_extension": ".py",
   "mimetype": "text/x-python",
   "name": "python",
   "nbconvert_exporter": "python",
   "pygments_lexer": "ipython3",
   "version": "3.8.3"
  }
 },
 "nbformat": 4,
 "nbformat_minor": 4
}
