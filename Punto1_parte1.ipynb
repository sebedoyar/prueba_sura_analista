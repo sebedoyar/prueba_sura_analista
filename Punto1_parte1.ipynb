{
 "cells": [
  {
   "cell_type": "markdown",
   "metadata": {},
   "source": [
    "# Prueba Analista Financiero SURA"
   ]
  },
  {
   "cell_type": "markdown",
   "metadata": {},
   "source": [
    "## Punto 1"
   ]
  },
  {
   "cell_type": "markdown",
   "metadata": {},
   "source": [
    "### Parte 1"
   ]
  },
  {
   "cell_type": "code",
   "execution_count": 1,
   "metadata": {},
   "outputs": [],
   "source": [
    "import pandas as pd\n",
    "import numpy as np\n",
    "import seaborn as sns\n",
    "import matplotlib.pyplot as plt"
   ]
  },
  {
   "cell_type": "code",
   "execution_count": 6,
   "metadata": {},
   "outputs": [],
   "source": [
    "# Cargue de datos, descargados desde Yahoo Finance\n",
    "#usdcop = pd.read_csv(\"USDCOP.csv\",index_col='Date')\n",
    "usdcop = pd.read_csv(\"USDCOP.csv\",usecols=['Date','Close'])\n",
    "oil = pd.read_csv(\"CL_F.csv\",usecols=['Date','Close'])\n",
    "\n"
   ]
  },
  {
   "cell_type": "code",
   "execution_count": 7,
   "metadata": {},
   "outputs": [
    {
     "data": {
      "text/html": [
       "<div>\n",
       "<style scoped>\n",
       "    .dataframe tbody tr th:only-of-type {\n",
       "        vertical-align: middle;\n",
       "    }\n",
       "\n",
       "    .dataframe tbody tr th {\n",
       "        vertical-align: top;\n",
       "    }\n",
       "\n",
       "    .dataframe thead th {\n",
       "        text-align: right;\n",
       "    }\n",
       "</style>\n",
       "<table border=\"1\" class=\"dataframe\">\n",
       "  <thead>\n",
       "    <tr style=\"text-align: right;\">\n",
       "      <th></th>\n",
       "      <th>Date</th>\n",
       "      <th>Close</th>\n",
       "    </tr>\n",
       "  </thead>\n",
       "  <tbody>\n",
       "    <tr>\n",
       "      <th>0</th>\n",
       "      <td>2008-01-01</td>\n",
       "      <td>1999.099976</td>\n",
       "    </tr>\n",
       "    <tr>\n",
       "      <th>1</th>\n",
       "      <td>2008-01-02</td>\n",
       "      <td>1979.099976</td>\n",
       "    </tr>\n",
       "    <tr>\n",
       "      <th>2</th>\n",
       "      <td>2008-01-03</td>\n",
       "      <td>1986.800049</td>\n",
       "    </tr>\n",
       "    <tr>\n",
       "      <th>3</th>\n",
       "      <td>2008-01-04</td>\n",
       "      <td>1972.099976</td>\n",
       "    </tr>\n",
       "    <tr>\n",
       "      <th>4</th>\n",
       "      <td>2008-01-07</td>\n",
       "      <td>1976.300049</td>\n",
       "    </tr>\n",
       "  </tbody>\n",
       "</table>\n",
       "</div>"
      ],
      "text/plain": [
       "         Date        Close\n",
       "0  2008-01-01  1999.099976\n",
       "1  2008-01-02  1979.099976\n",
       "2  2008-01-03  1986.800049\n",
       "3  2008-01-04  1972.099976\n",
       "4  2008-01-07  1976.300049"
      ]
     },
     "execution_count": 7,
     "metadata": {},
     "output_type": "execute_result"
    }
   ],
   "source": [
    "usdcop.head()"
   ]
  },
  {
   "cell_type": "code",
   "execution_count": 8,
   "metadata": {},
   "outputs": [
    {
     "data": {
      "text/html": [
       "<div>\n",
       "<style scoped>\n",
       "    .dataframe tbody tr th:only-of-type {\n",
       "        vertical-align: middle;\n",
       "    }\n",
       "\n",
       "    .dataframe tbody tr th {\n",
       "        vertical-align: top;\n",
       "    }\n",
       "\n",
       "    .dataframe thead th {\n",
       "        text-align: right;\n",
       "    }\n",
       "</style>\n",
       "<table border=\"1\" class=\"dataframe\">\n",
       "  <thead>\n",
       "    <tr style=\"text-align: right;\">\n",
       "      <th></th>\n",
       "      <th>Date</th>\n",
       "      <th>Close</th>\n",
       "    </tr>\n",
       "  </thead>\n",
       "  <tbody>\n",
       "    <tr>\n",
       "      <th>0</th>\n",
       "      <td>2008-01-02</td>\n",
       "      <td>99.620003</td>\n",
       "    </tr>\n",
       "    <tr>\n",
       "      <th>1</th>\n",
       "      <td>2008-01-03</td>\n",
       "      <td>99.180000</td>\n",
       "    </tr>\n",
       "    <tr>\n",
       "      <th>2</th>\n",
       "      <td>2008-01-04</td>\n",
       "      <td>97.910004</td>\n",
       "    </tr>\n",
       "    <tr>\n",
       "      <th>3</th>\n",
       "      <td>2008-01-06</td>\n",
       "      <td>NaN</td>\n",
       "    </tr>\n",
       "    <tr>\n",
       "      <th>4</th>\n",
       "      <td>2008-01-07</td>\n",
       "      <td>95.089996</td>\n",
       "    </tr>\n",
       "  </tbody>\n",
       "</table>\n",
       "</div>"
      ],
      "text/plain": [
       "         Date      Close\n",
       "0  2008-01-02  99.620003\n",
       "1  2008-01-03  99.180000\n",
       "2  2008-01-04  97.910004\n",
       "3  2008-01-06        NaN\n",
       "4  2008-01-07  95.089996"
      ]
     },
     "execution_count": 8,
     "metadata": {},
     "output_type": "execute_result"
    }
   ],
   "source": [
    "oil.head()"
   ]
  },
  {
   "cell_type": "code",
   "execution_count": 9,
   "metadata": {},
   "outputs": [
    {
     "data": {
      "text/plain": [
       "Date      object\n",
       "Close    float64\n",
       "dtype: object"
      ]
     },
     "execution_count": 9,
     "metadata": {},
     "output_type": "execute_result"
    }
   ],
   "source": [
    "usdcop.dtypes"
   ]
  },
  {
   "cell_type": "code",
   "execution_count": 10,
   "metadata": {},
   "outputs": [
    {
     "data": {
      "text/plain": [
       "Date     datetime64[ns]\n",
       "Close           float64\n",
       "dtype: object"
      ]
     },
     "execution_count": 10,
     "metadata": {},
     "output_type": "execute_result"
    }
   ],
   "source": [
    "usdcop['Date'] = pd.to_datetime(usdcop['Date'])\n",
    "oil['Date'] = pd.to_datetime(oil['Date'])\n",
    "usdcop.dtypes"
   ]
  },
  {
   "cell_type": "code",
   "execution_count": 11,
   "metadata": {},
   "outputs": [],
   "source": [
    "index_date_u = usdcop['Date']\n",
    "index_date_o = oil['Date']\n",
    "usdcop.set_index(index_date_u, inplace=True)\n",
    "oil.set_index(index_date_o, inplace=True)\n",
    "usdcop.rename(columns = {'Date':'Fecha'}, inplace = True) \n",
    "oil.rename(columns = {'Date':'Fecha'}, inplace = True) "
   ]
  },
  {
   "cell_type": "code",
   "execution_count": 12,
   "metadata": {},
   "outputs": [
    {
     "data": {
      "text/html": [
       "<div>\n",
       "<style scoped>\n",
       "    .dataframe tbody tr th:only-of-type {\n",
       "        vertical-align: middle;\n",
       "    }\n",
       "\n",
       "    .dataframe tbody tr th {\n",
       "        vertical-align: top;\n",
       "    }\n",
       "\n",
       "    .dataframe thead th {\n",
       "        text-align: right;\n",
       "    }\n",
       "</style>\n",
       "<table border=\"1\" class=\"dataframe\">\n",
       "  <thead>\n",
       "    <tr style=\"text-align: right;\">\n",
       "      <th></th>\n",
       "      <th>Fecha</th>\n",
       "      <th>Close</th>\n",
       "      <th>year</th>\n",
       "      <th>mes</th>\n",
       "      <th>dia</th>\n",
       "    </tr>\n",
       "    <tr>\n",
       "      <th>Date</th>\n",
       "      <th></th>\n",
       "      <th></th>\n",
       "      <th></th>\n",
       "      <th></th>\n",
       "      <th></th>\n",
       "    </tr>\n",
       "  </thead>\n",
       "  <tbody>\n",
       "    <tr>\n",
       "      <th>2008-01-01</th>\n",
       "      <td>2008-01-01</td>\n",
       "      <td>1999.099976</td>\n",
       "      <td>2008</td>\n",
       "      <td>1</td>\n",
       "      <td>1</td>\n",
       "    </tr>\n",
       "    <tr>\n",
       "      <th>2008-01-02</th>\n",
       "      <td>2008-01-02</td>\n",
       "      <td>1979.099976</td>\n",
       "      <td>2008</td>\n",
       "      <td>1</td>\n",
       "      <td>2</td>\n",
       "    </tr>\n",
       "    <tr>\n",
       "      <th>2008-01-03</th>\n",
       "      <td>2008-01-03</td>\n",
       "      <td>1986.800049</td>\n",
       "      <td>2008</td>\n",
       "      <td>1</td>\n",
       "      <td>3</td>\n",
       "    </tr>\n",
       "    <tr>\n",
       "      <th>2008-01-04</th>\n",
       "      <td>2008-01-04</td>\n",
       "      <td>1972.099976</td>\n",
       "      <td>2008</td>\n",
       "      <td>1</td>\n",
       "      <td>4</td>\n",
       "    </tr>\n",
       "    <tr>\n",
       "      <th>2008-01-07</th>\n",
       "      <td>2008-01-07</td>\n",
       "      <td>1976.300049</td>\n",
       "      <td>2008</td>\n",
       "      <td>1</td>\n",
       "      <td>7</td>\n",
       "    </tr>\n",
       "  </tbody>\n",
       "</table>\n",
       "</div>"
      ],
      "text/plain": [
       "                Fecha        Close  year  mes  dia\n",
       "Date                                              \n",
       "2008-01-01 2008-01-01  1999.099976  2008    1    1\n",
       "2008-01-02 2008-01-02  1979.099976  2008    1    2\n",
       "2008-01-03 2008-01-03  1986.800049  2008    1    3\n",
       "2008-01-04 2008-01-04  1972.099976  2008    1    4\n",
       "2008-01-07 2008-01-07  1976.300049  2008    1    7"
      ]
     },
     "execution_count": 12,
     "metadata": {},
     "output_type": "execute_result"
    }
   ],
   "source": [
    "usdcop['year'] = pd.DatetimeIndex(usdcop['Fecha']).year\n",
    "usdcop['mes'] = pd.DatetimeIndex(usdcop['Fecha']).month\n",
    "usdcop['dia'] = pd.DatetimeIndex(usdcop['Fecha']).day\n",
    "oil['year'] = pd.DatetimeIndex(oil['Fecha']).year\n",
    "oil['mes'] = pd.DatetimeIndex(oil['Fecha']).month\n",
    "oil['dia'] = pd.DatetimeIndex(oil['Fecha']).day\n",
    "usdcop.head()"
   ]
  },
  {
   "cell_type": "code",
   "execution_count": 138,
   "metadata": {},
   "outputs": [
    {
     "data": {
      "text/plain": [
       "Date          object\n",
       "Open         float64\n",
       "High         float64\n",
       "Low          float64\n",
       "Close        float64\n",
       "Adj Close    float64\n",
       "Volume       float64\n",
       "year           int64\n",
       "mes            int64\n",
       "dia            int64\n",
       "dtype: object"
      ]
     },
     "execution_count": 138,
     "metadata": {},
     "output_type": "execute_result"
    }
   ],
   "source": [
    "oil.dtypes"
   ]
  },
  {
   "cell_type": "code",
   "execution_count": 14,
   "metadata": {},
   "outputs": [
    {
     "name": "stdout",
     "output_type": "stream",
     "text": [
      "17\n",
      "664\n"
     ]
    }
   ],
   "source": [
    "print(pd.isnull(usdcop['Close']).values.ravel().sum())\n",
    "print(pd.isnull(oil['Close']).values.ravel().sum())"
   ]
  },
  {
   "cell_type": "code",
   "execution_count": 15,
   "metadata": {},
   "outputs": [],
   "source": [
    "usdcop = usdcop.dropna(axis=0, how=\"any\") \n",
    "oil = oil.dropna(axis=0, how=\"any\") "
   ]
  },
  {
   "cell_type": "code",
   "execution_count": 16,
   "metadata": {},
   "outputs": [
    {
     "data": {
      "text/html": [
       "<div>\n",
       "<style scoped>\n",
       "    .dataframe tbody tr th:only-of-type {\n",
       "        vertical-align: middle;\n",
       "    }\n",
       "\n",
       "    .dataframe tbody tr th {\n",
       "        vertical-align: top;\n",
       "    }\n",
       "\n",
       "    .dataframe thead th {\n",
       "        text-align: right;\n",
       "    }\n",
       "</style>\n",
       "<table border=\"1\" class=\"dataframe\">\n",
       "  <thead>\n",
       "    <tr style=\"text-align: right;\">\n",
       "      <th></th>\n",
       "      <th>Close</th>\n",
       "      <th>year</th>\n",
       "      <th>mes</th>\n",
       "      <th>dia</th>\n",
       "    </tr>\n",
       "  </thead>\n",
       "  <tbody>\n",
       "    <tr>\n",
       "      <th>count</th>\n",
       "      <td>3226.000000</td>\n",
       "      <td>3226.000000</td>\n",
       "      <td>3226.000000</td>\n",
       "      <td>3226.000000</td>\n",
       "    </tr>\n",
       "    <tr>\n",
       "      <th>mean</th>\n",
       "      <td>71.346640</td>\n",
       "      <td>2013.964042</td>\n",
       "      <td>6.422815</td>\n",
       "      <td>15.691569</td>\n",
       "    </tr>\n",
       "    <tr>\n",
       "      <th>std</th>\n",
       "      <td>24.642696</td>\n",
       "      <td>3.725455</td>\n",
       "      <td>3.385481</td>\n",
       "      <td>8.732371</td>\n",
       "    </tr>\n",
       "    <tr>\n",
       "      <th>min</th>\n",
       "      <td>-37.630001</td>\n",
       "      <td>2008.000000</td>\n",
       "      <td>1.000000</td>\n",
       "      <td>1.000000</td>\n",
       "    </tr>\n",
       "    <tr>\n",
       "      <th>25%</th>\n",
       "      <td>50.349998</td>\n",
       "      <td>2011.000000</td>\n",
       "      <td>4.000000</td>\n",
       "      <td>8.000000</td>\n",
       "    </tr>\n",
       "    <tr>\n",
       "      <th>50%</th>\n",
       "      <td>68.705002</td>\n",
       "      <td>2014.000000</td>\n",
       "      <td>6.000000</td>\n",
       "      <td>16.000000</td>\n",
       "    </tr>\n",
       "    <tr>\n",
       "      <th>75%</th>\n",
       "      <td>93.337498</td>\n",
       "      <td>2017.000000</td>\n",
       "      <td>9.000000</td>\n",
       "      <td>23.000000</td>\n",
       "    </tr>\n",
       "    <tr>\n",
       "      <th>max</th>\n",
       "      <td>145.179993</td>\n",
       "      <td>2020.000000</td>\n",
       "      <td>12.000000</td>\n",
       "      <td>31.000000</td>\n",
       "    </tr>\n",
       "  </tbody>\n",
       "</table>\n",
       "</div>"
      ],
      "text/plain": [
       "             Close         year          mes          dia\n",
       "count  3226.000000  3226.000000  3226.000000  3226.000000\n",
       "mean     71.346640  2013.964042     6.422815    15.691569\n",
       "std      24.642696     3.725455     3.385481     8.732371\n",
       "min     -37.630001  2008.000000     1.000000     1.000000\n",
       "25%      50.349998  2011.000000     4.000000     8.000000\n",
       "50%      68.705002  2014.000000     6.000000    16.000000\n",
       "75%      93.337498  2017.000000     9.000000    23.000000\n",
       "max     145.179993  2020.000000    12.000000    31.000000"
      ]
     },
     "execution_count": 16,
     "metadata": {},
     "output_type": "execute_result"
    }
   ],
   "source": [
    "oil.describe()"
   ]
  },
  {
   "cell_type": "code",
   "execution_count": 17,
   "metadata": {},
   "outputs": [
    {
     "data": {
      "text/html": [
       "<div>\n",
       "<style scoped>\n",
       "    .dataframe tbody tr th:only-of-type {\n",
       "        vertical-align: middle;\n",
       "    }\n",
       "\n",
       "    .dataframe tbody tr th {\n",
       "        vertical-align: top;\n",
       "    }\n",
       "\n",
       "    .dataframe thead th {\n",
       "        text-align: right;\n",
       "    }\n",
       "</style>\n",
       "<table border=\"1\" class=\"dataframe\">\n",
       "  <thead>\n",
       "    <tr style=\"text-align: right;\">\n",
       "      <th></th>\n",
       "      <th>Fecha</th>\n",
       "      <th>Close</th>\n",
       "      <th>year</th>\n",
       "      <th>mes</th>\n",
       "      <th>dia</th>\n",
       "    </tr>\n",
       "    <tr>\n",
       "      <th>Date</th>\n",
       "      <th></th>\n",
       "      <th></th>\n",
       "      <th></th>\n",
       "      <th></th>\n",
       "      <th></th>\n",
       "    </tr>\n",
       "  </thead>\n",
       "  <tbody>\n",
       "    <tr>\n",
       "      <th>2020-10-01</th>\n",
       "      <td>2020-10-01</td>\n",
       "      <td>3825.250000</td>\n",
       "      <td>2020</td>\n",
       "      <td>10</td>\n",
       "      <td>1</td>\n",
       "    </tr>\n",
       "    <tr>\n",
       "      <th>2020-10-02</th>\n",
       "      <td>2020-10-02</td>\n",
       "      <td>3843.750000</td>\n",
       "      <td>2020</td>\n",
       "      <td>10</td>\n",
       "      <td>2</td>\n",
       "    </tr>\n",
       "    <tr>\n",
       "      <th>2020-10-05</th>\n",
       "      <td>2020-10-05</td>\n",
       "      <td>3870.250000</td>\n",
       "      <td>2020</td>\n",
       "      <td>10</td>\n",
       "      <td>5</td>\n",
       "    </tr>\n",
       "    <tr>\n",
       "      <th>2020-10-06</th>\n",
       "      <td>2020-10-06</td>\n",
       "      <td>3827.840088</td>\n",
       "      <td>2020</td>\n",
       "      <td>10</td>\n",
       "      <td>6</td>\n",
       "    </tr>\n",
       "    <tr>\n",
       "      <th>2020-10-07</th>\n",
       "      <td>2020-10-07</td>\n",
       "      <td>3831.250000</td>\n",
       "      <td>2020</td>\n",
       "      <td>10</td>\n",
       "      <td>7</td>\n",
       "    </tr>\n",
       "    <tr>\n",
       "      <th>2020-10-08</th>\n",
       "      <td>2020-10-08</td>\n",
       "      <td>3842.449951</td>\n",
       "      <td>2020</td>\n",
       "      <td>10</td>\n",
       "      <td>8</td>\n",
       "    </tr>\n",
       "    <tr>\n",
       "      <th>2020-10-09</th>\n",
       "      <td>2020-10-09</td>\n",
       "      <td>3837.750000</td>\n",
       "      <td>2020</td>\n",
       "      <td>10</td>\n",
       "      <td>9</td>\n",
       "    </tr>\n",
       "    <tr>\n",
       "      <th>2020-10-12</th>\n",
       "      <td>2020-10-12</td>\n",
       "      <td>3826.250000</td>\n",
       "      <td>2020</td>\n",
       "      <td>10</td>\n",
       "      <td>12</td>\n",
       "    </tr>\n",
       "    <tr>\n",
       "      <th>2020-10-13</th>\n",
       "      <td>2020-10-13</td>\n",
       "      <td>3826.250000</td>\n",
       "      <td>2020</td>\n",
       "      <td>10</td>\n",
       "      <td>13</td>\n",
       "    </tr>\n",
       "    <tr>\n",
       "      <th>2020-10-14</th>\n",
       "      <td>2020-10-14</td>\n",
       "      <td>3860.250000</td>\n",
       "      <td>2020</td>\n",
       "      <td>10</td>\n",
       "      <td>14</td>\n",
       "    </tr>\n",
       "    <tr>\n",
       "      <th>2020-10-15</th>\n",
       "      <td>2020-10-15</td>\n",
       "      <td>3837.250000</td>\n",
       "      <td>2020</td>\n",
       "      <td>10</td>\n",
       "      <td>15</td>\n",
       "    </tr>\n",
       "    <tr>\n",
       "      <th>2020-10-16</th>\n",
       "      <td>2020-10-16</td>\n",
       "      <td>3848.500000</td>\n",
       "      <td>2020</td>\n",
       "      <td>10</td>\n",
       "      <td>16</td>\n",
       "    </tr>\n",
       "  </tbody>\n",
       "</table>\n",
       "</div>"
      ],
      "text/plain": [
       "                Fecha        Close  year  mes  dia\n",
       "Date                                              \n",
       "2020-10-01 2020-10-01  3825.250000  2020   10    1\n",
       "2020-10-02 2020-10-02  3843.750000  2020   10    2\n",
       "2020-10-05 2020-10-05  3870.250000  2020   10    5\n",
       "2020-10-06 2020-10-06  3827.840088  2020   10    6\n",
       "2020-10-07 2020-10-07  3831.250000  2020   10    7\n",
       "2020-10-08 2020-10-08  3842.449951  2020   10    8\n",
       "2020-10-09 2020-10-09  3837.750000  2020   10    9\n",
       "2020-10-12 2020-10-12  3826.250000  2020   10   12\n",
       "2020-10-13 2020-10-13  3826.250000  2020   10   13\n",
       "2020-10-14 2020-10-14  3860.250000  2020   10   14\n",
       "2020-10-15 2020-10-15  3837.250000  2020   10   15\n",
       "2020-10-16 2020-10-16  3848.500000  2020   10   16"
      ]
     },
     "execution_count": 17,
     "metadata": {},
     "output_type": "execute_result"
    }
   ],
   "source": [
    "usdcop_m= usdcop.last('M')\n",
    "usdcop_m.head(50)"
   ]
  },
  {
   "cell_type": "code",
   "execution_count": 18,
   "metadata": {},
   "outputs": [
    {
     "data": {
      "text/html": [
       "<div>\n",
       "<style scoped>\n",
       "    .dataframe tbody tr th:only-of-type {\n",
       "        vertical-align: middle;\n",
       "    }\n",
       "\n",
       "    .dataframe tbody tr th {\n",
       "        vertical-align: top;\n",
       "    }\n",
       "\n",
       "    .dataframe thead th {\n",
       "        text-align: right;\n",
       "    }\n",
       "</style>\n",
       "<table border=\"1\" class=\"dataframe\">\n",
       "  <thead>\n",
       "    <tr style=\"text-align: right;\">\n",
       "      <th></th>\n",
       "      <th>Fecha</th>\n",
       "      <th>Close</th>\n",
       "      <th>year</th>\n",
       "      <th>mes</th>\n",
       "      <th>dia</th>\n",
       "    </tr>\n",
       "  </thead>\n",
       "  <tbody>\n",
       "    <tr>\n",
       "      <th>2019-12-31</th>\n",
       "      <td>2019-12-31</td>\n",
       "      <td>3283.010010</td>\n",
       "      <td>2019.0</td>\n",
       "      <td>12.0</td>\n",
       "      <td>31.0</td>\n",
       "    </tr>\n",
       "    <tr>\n",
       "      <th>2018-12-31</th>\n",
       "      <td>2018-12-31</td>\n",
       "      <td>3245.000000</td>\n",
       "      <td>2018.0</td>\n",
       "      <td>12.0</td>\n",
       "      <td>31.0</td>\n",
       "    </tr>\n",
       "    <tr>\n",
       "      <th>2017-12-29</th>\n",
       "      <td>2017-12-29</td>\n",
       "      <td>2982.000000</td>\n",
       "      <td>2017.0</td>\n",
       "      <td>12.0</td>\n",
       "      <td>29.0</td>\n",
       "    </tr>\n",
       "    <tr>\n",
       "      <th>2016-12-30</th>\n",
       "      <td>2016-12-30</td>\n",
       "      <td>2964.699951</td>\n",
       "      <td>2016.0</td>\n",
       "      <td>12.0</td>\n",
       "      <td>30.0</td>\n",
       "    </tr>\n",
       "    <tr>\n",
       "      <th>2015-12-31</th>\n",
       "      <td>2015-12-31</td>\n",
       "      <td>3138.000000</td>\n",
       "      <td>2015.0</td>\n",
       "      <td>12.0</td>\n",
       "      <td>31.0</td>\n",
       "    </tr>\n",
       "  </tbody>\n",
       "</table>\n",
       "</div>"
      ],
      "text/plain": [
       "                Fecha        Close    year   mes   dia\n",
       "2019-12-31 2019-12-31  3283.010010  2019.0  12.0  31.0\n",
       "2018-12-31 2018-12-31  3245.000000  2018.0  12.0  31.0\n",
       "2017-12-29 2017-12-29  2982.000000  2017.0  12.0  29.0\n",
       "2016-12-30 2016-12-30  2964.699951  2016.0  12.0  30.0\n",
       "2015-12-31 2015-12-31  3138.000000  2015.0  12.0  31.0"
      ]
     },
     "execution_count": 18,
     "metadata": {},
     "output_type": "execute_result"
    }
   ],
   "source": [
    "date_i = min(usdcop['Fecha'])\n",
    "date_f = max(usdcop['Fecha'])\n",
    "#print(date_i)\n",
    "#print(date_f)\n",
    "selection = pd.date_range(start=date_i, end=date_f,freq='BM')\n",
    "#print(selection)\n",
    "usdcop_m= usdcop.asof(selection)\n",
    "usdcop_m = usdcop_m.sort_values(by=['Fecha'], ascending=False)\n",
    "#usdcop_m.head()\n",
    "# Selección del último dia hábil del año\n",
    "selection = pd.date_range(start=date_i, end=date_f,freq='BY')\n",
    "usdcop_y = usdcop.asof(selection)\n",
    "usdcop_y = usdcop_y.sort_values(by=['Fecha'], ascending=False)\n",
    "usdcop_y.head()"
   ]
  },
  {
   "cell_type": "code",
   "execution_count": 19,
   "metadata": {},
   "outputs": [
    {
     "data": {
      "text/html": [
       "<div>\n",
       "<style scoped>\n",
       "    .dataframe tbody tr th:only-of-type {\n",
       "        vertical-align: middle;\n",
       "    }\n",
       "\n",
       "    .dataframe tbody tr th {\n",
       "        vertical-align: top;\n",
       "    }\n",
       "\n",
       "    .dataframe thead th {\n",
       "        text-align: right;\n",
       "    }\n",
       "</style>\n",
       "<table border=\"1\" class=\"dataframe\">\n",
       "  <thead>\n",
       "    <tr style=\"text-align: right;\">\n",
       "      <th></th>\n",
       "      <th>Fecha</th>\n",
       "      <th>Close</th>\n",
       "      <th>year</th>\n",
       "      <th>mes</th>\n",
       "      <th>dia</th>\n",
       "    </tr>\n",
       "  </thead>\n",
       "  <tbody>\n",
       "    <tr>\n",
       "      <th>2019-12-31</th>\n",
       "      <td>2019-12-31</td>\n",
       "      <td>61.060001</td>\n",
       "      <td>2019.0</td>\n",
       "      <td>12.0</td>\n",
       "      <td>31.0</td>\n",
       "    </tr>\n",
       "    <tr>\n",
       "      <th>2018-12-31</th>\n",
       "      <td>2018-12-31</td>\n",
       "      <td>45.410000</td>\n",
       "      <td>2018.0</td>\n",
       "      <td>12.0</td>\n",
       "      <td>31.0</td>\n",
       "    </tr>\n",
       "    <tr>\n",
       "      <th>2017-12-29</th>\n",
       "      <td>2017-12-29</td>\n",
       "      <td>60.419998</td>\n",
       "      <td>2017.0</td>\n",
       "      <td>12.0</td>\n",
       "      <td>29.0</td>\n",
       "    </tr>\n",
       "    <tr>\n",
       "      <th>2016-12-30</th>\n",
       "      <td>2016-12-30</td>\n",
       "      <td>53.720001</td>\n",
       "      <td>2016.0</td>\n",
       "      <td>12.0</td>\n",
       "      <td>30.0</td>\n",
       "    </tr>\n",
       "    <tr>\n",
       "      <th>2015-12-31</th>\n",
       "      <td>2015-12-31</td>\n",
       "      <td>37.040001</td>\n",
       "      <td>2015.0</td>\n",
       "      <td>12.0</td>\n",
       "      <td>31.0</td>\n",
       "    </tr>\n",
       "  </tbody>\n",
       "</table>\n",
       "</div>"
      ],
      "text/plain": [
       "                Fecha      Close    year   mes   dia\n",
       "2019-12-31 2019-12-31  61.060001  2019.0  12.0  31.0\n",
       "2018-12-31 2018-12-31  45.410000  2018.0  12.0  31.0\n",
       "2017-12-29 2017-12-29  60.419998  2017.0  12.0  29.0\n",
       "2016-12-30 2016-12-30  53.720001  2016.0  12.0  30.0\n",
       "2015-12-31 2015-12-31  37.040001  2015.0  12.0  31.0"
      ]
     },
     "execution_count": 19,
     "metadata": {},
     "output_type": "execute_result"
    }
   ],
   "source": [
    "date_i = min(oil['Fecha'])\n",
    "date_f = max(oil['Fecha'])\n",
    "#print(date_i)\n",
    "#print(date_f)\n",
    "selection = pd.date_range(start=date_i, end=date_f,freq='BM')\n",
    "#print(selection)\n",
    "oil_m= oil.asof(selection)\n",
    "oil_m = oil_m.sort_values(by=['Fecha'], ascending=False)\n",
    "#oil_m.head()\n",
    "# Selección del último dia hábil del año\n",
    "selection = pd.date_range(start=date_i, end=date_f,freq='BY')\n",
    "oil_y = oil.asof(selection)\n",
    "oil_y = oil_y.sort_values(by=['Fecha'], ascending=False)\n",
    "oil_y.head()"
   ]
  },
  {
   "cell_type": "markdown",
   "metadata": {},
   "source": [
    "## Gráficos dia, mes, año USDCOP (TRM)"
   ]
  },
  {
   "cell_type": "code",
   "execution_count": 20,
   "metadata": {},
   "outputs": [
    {
     "data": {
      "text/plain": [
       "[<matplotlib.lines.Line2D at 0x7fa974c91e80>]"
      ]
     },
     "execution_count": 20,
     "metadata": {},
     "output_type": "execute_result"
    },
    {
     "data": {
      "image/png": "[encoded data removed]",
      "text/plain": [
       "<Figure size 432x288 with 1 Axes>"
      ]
     },
     "metadata": {
      "needs_background": "light"
     },
     "output_type": "display_data"
    }
   ],
   "source": [
    "fig = plt.figure()\n",
    "ax = plt.axes()\n",
    "\n",
    "y = usdcop['Close']\n",
    "x = usdcop['Fecha']\n",
    "ax.plot(x,y)"
   ]
  },
  {
   "cell_type": "code",
   "execution_count": 21,
   "metadata": {},
   "outputs": [
    {
     "data": {
      "text/plain": [
       "<AxesSubplot:xlabel='Fecha', ylabel='Close'>"
      ]
     },
     "execution_count": 21,
     "metadata": {},
     "output_type": "execute_result"
    },
    {
     "data": {
      "image/png": "[encoded data removed]",
      "text/plain": [
       "<Figure size 432x288 with 1 Axes>"
      ]
     },
     "metadata": {
      "needs_background": "light"
     },
     "output_type": "display_data"
    }
   ],
   "source": [
    "sns.lineplot(data=usdcop, x=\"Fecha\", y=\"Close\")\n"
   ]
  },
  {
   "cell_type": "markdown",
   "metadata": {},
   "source": [
    "## Mes"
   ]
  },
  {
   "cell_type": "code",
   "execution_count": 22,
   "metadata": {},
   "outputs": [
    {
     "data": {
      "text/plain": [
       "<AxesSubplot:xlabel='Fecha', ylabel='Close'>"
      ]
     },
     "execution_count": 22,
     "metadata": {},
     "output_type": "execute_result"
    },
    {
     "data": {
      "image/png": "[encoded data removed]",
      "text/plain": [
       "<Figure size 432x288 with 1 Axes>"
      ]
     },
     "metadata": {
      "needs_background": "light"
     },
     "output_type": "display_data"
    }
   ],
   "source": [
    "sns.lineplot(data=usdcop_m, x=\"Fecha\", y=\"Close\")\n"
   ]
  },
  {
   "cell_type": "markdown",
   "metadata": {},
   "source": [
    "#### Bloxplot mensual"
   ]
  },
  {
   "cell_type": "code",
   "execution_count": 24,
   "metadata": {},
   "outputs": [
    {
     "data": {
      "image/png": "[encoded data removed]",
      "text/plain": [
       "<Figure size 720x288 with 1 Axes>"
      ]
     },
     "metadata": {
      "needs_background": "light"
     },
     "output_type": "display_data"
    }
   ],
   "source": [
    "#boxplot_d = usdcop.boxplot(column = [\"Close\"], by = ['year'],figsize=(10,4))\n",
    "\n",
    "boxplot_m = usdcop_m.boxplot(column = [\"Close\"], by = ['year'],figsize=(10,4))\n"
   ]
  },
  {
   "cell_type": "markdown",
   "metadata": {},
   "source": [
    "## Año"
   ]
  },
  {
   "cell_type": "code",
   "execution_count": 25,
   "metadata": {},
   "outputs": [
    {
     "data": {
      "text/plain": [
       "<AxesSubplot:xlabel='Fecha', ylabel='Close'>"
      ]
     },
     "execution_count": 25,
     "metadata": {},
     "output_type": "execute_result"
    },
    {
     "data": {
      "image/png": "[encoded data removed]",
      "text/plain": [
       "<Figure size 432x288 with 1 Axes>"
      ]
     },
     "metadata": {
      "needs_background": "light"
     },
     "output_type": "display_data"
    }
   ],
   "source": [
    "sns.lineplot(data=usdcop_y, x=\"Fecha\", y=\"Close\")"
   ]
  },
  {
   "cell_type": "markdown",
   "metadata": {},
   "source": [
    "## Gráficos dia, mes, año OIL (WTI)"
   ]
  },
  {
   "cell_type": "markdown",
   "metadata": {},
   "source": [
    "# Diario"
   ]
  },
  {
   "cell_type": "code",
   "execution_count": 26,
   "metadata": {},
   "outputs": [
    {
     "data": {
      "text/plain": [
       "<AxesSubplot:xlabel='Fecha', ylabel='Close'>"
      ]
     },
     "execution_count": 26,
     "metadata": {},
     "output_type": "execute_result"
    },
    {
     "data": {
      "image/png": "[encoded data removed]",
      "text/plain": [
       "<Figure size 432x288 with 1 Axes>"
      ]
     },
     "metadata": {
      "needs_background": "light"
     },
     "output_type": "display_data"
    }
   ],
   "source": [
    "sns.lineplot(data=oil, x=\"Fecha\", y=\"Close\")"
   ]
  },
  {
   "cell_type": "markdown",
   "metadata": {},
   "source": [
    "# Mes"
   ]
  },
  {
   "cell_type": "code",
   "execution_count": 27,
   "metadata": {},
   "outputs": [
    {
     "data": {
      "text/plain": [
       "<AxesSubplot:xlabel='Fecha', ylabel='Close'>"
      ]
     },
     "execution_count": 27,
     "metadata": {},
     "output_type": "execute_result"
    },
    {
     "data": {
      "image/png": "[encoded data removed]",
      "text/plain": [
       "<Figure size 432x288 with 1 Axes>"
      ]
     },
     "metadata": {
      "needs_background": "light"
     },
     "output_type": "display_data"
    }
   ],
   "source": [
    "sns.lineplot(data=oil_m, x=\"Fecha\", y=\"Close\")"
   ]
  },
  {
   "cell_type": "markdown",
   "metadata": {},
   "source": [
    "### Boxplot pretróleo por mes"
   ]
  },
  {
   "cell_type": "code",
   "execution_count": 28,
   "metadata": {},
   "outputs": [
    {
     "data": {
      "image/png": "[encoded data removed]",
      "text/plain": [
       "<Figure size 720x288 with 1 Axes>"
      ]
     },
     "metadata": {
      "needs_background": "light"
     },
     "output_type": "display_data"
    }
   ],
   "source": [
    "boxplot_m = oil_m.boxplot(column = [\"Close\"], by = ['year'],figsize=(10,4))\n"
   ]
  },
  {
   "cell_type": "markdown",
   "metadata": {},
   "source": [
    "## Año"
   ]
  },
  {
   "cell_type": "code",
   "execution_count": 29,
   "metadata": {},
   "outputs": [
    {
     "data": {
      "text/plain": [
       "<AxesSubplot:xlabel='Fecha', ylabel='Close'>"
      ]
     },
     "execution_count": 29,
     "metadata": {},
     "output_type": "execute_result"
    },
    {
     "data": {
      "image/png": "[encoded data removed]",
      "text/plain": [
       "<Figure size 432x288 with 1 Axes>"
      ]
     },
     "metadata": {
      "needs_background": "light"
     },
     "output_type": "display_data"
    }
   ],
   "source": [
    "sns.lineplot(data=oil_y, x=\"Fecha\", y=\"Close\")"
   ]
  },
  {
   "cell_type": "markdown",
   "metadata": {},
   "source": [
    "## Calculo de correlaciones"
   ]
  },
  {
   "cell_type": "code",
   "execution_count": 30,
   "metadata": {},
   "outputs": [
    {
     "data": {
      "text/html": [
       "<div>\n",
       "<style scoped>\n",
       "    .dataframe tbody tr th:only-of-type {\n",
       "        vertical-align: middle;\n",
       "    }\n",
       "\n",
       "    .dataframe tbody tr th {\n",
       "        vertical-align: top;\n",
       "    }\n",
       "\n",
       "    .dataframe thead th {\n",
       "        text-align: right;\n",
       "    }\n",
       "</style>\n",
       "<table border=\"1\" class=\"dataframe\">\n",
       "  <thead>\n",
       "    <tr style=\"text-align: right;\">\n",
       "      <th></th>\n",
       "      <th>Fecha</th>\n",
       "      <th>Close</th>\n",
       "      <th>year</th>\n",
       "      <th>mes</th>\n",
       "      <th>dia</th>\n",
       "      <th>Return</th>\n",
       "      <th>Return2</th>\n",
       "      <th>Return3</th>\n",
       "    </tr>\n",
       "    <tr>\n",
       "      <th>Date</th>\n",
       "      <th></th>\n",
       "      <th></th>\n",
       "      <th></th>\n",
       "      <th></th>\n",
       "      <th></th>\n",
       "      <th></th>\n",
       "      <th></th>\n",
       "      <th></th>\n",
       "    </tr>\n",
       "  </thead>\n",
       "  <tbody>\n",
       "    <tr>\n",
       "      <th>2008-01-02</th>\n",
       "      <td>2008-01-02</td>\n",
       "      <td>99.620003</td>\n",
       "      <td>2008</td>\n",
       "      <td>1</td>\n",
       "      <td>2</td>\n",
       "      <td>NaN</td>\n",
       "      <td>NaN</td>\n",
       "      <td>NaN</td>\n",
       "    </tr>\n",
       "    <tr>\n",
       "      <th>2008-01-03</th>\n",
       "      <td>2008-01-03</td>\n",
       "      <td>99.180000</td>\n",
       "      <td>2008</td>\n",
       "      <td>1</td>\n",
       "      <td>3</td>\n",
       "      <td>-0.004417</td>\n",
       "      <td>NaN</td>\n",
       "      <td>NaN</td>\n",
       "    </tr>\n",
       "    <tr>\n",
       "      <th>2008-01-04</th>\n",
       "      <td>2008-01-04</td>\n",
       "      <td>97.910004</td>\n",
       "      <td>2008</td>\n",
       "      <td>1</td>\n",
       "      <td>4</td>\n",
       "      <td>-0.012805</td>\n",
       "      <td>-0.017165</td>\n",
       "      <td>NaN</td>\n",
       "    </tr>\n",
       "    <tr>\n",
       "      <th>2008-01-07</th>\n",
       "      <td>2008-01-07</td>\n",
       "      <td>95.089996</td>\n",
       "      <td>2008</td>\n",
       "      <td>1</td>\n",
       "      <td>7</td>\n",
       "      <td>-0.028802</td>\n",
       "      <td>-0.041238</td>\n",
       "      <td>-0.045473</td>\n",
       "    </tr>\n",
       "    <tr>\n",
       "      <th>2008-01-08</th>\n",
       "      <td>2008-01-08</td>\n",
       "      <td>96.330002</td>\n",
       "      <td>2008</td>\n",
       "      <td>1</td>\n",
       "      <td>8</td>\n",
       "      <td>0.013040</td>\n",
       "      <td>-0.016137</td>\n",
       "      <td>-0.028736</td>\n",
       "    </tr>\n",
       "    <tr>\n",
       "      <th>2008-01-09</th>\n",
       "      <td>2008-01-09</td>\n",
       "      <td>95.669998</td>\n",
       "      <td>2008</td>\n",
       "      <td>1</td>\n",
       "      <td>9</td>\n",
       "      <td>-0.006851</td>\n",
       "      <td>0.006100</td>\n",
       "      <td>-0.022878</td>\n",
       "    </tr>\n",
       "    <tr>\n",
       "      <th>2008-01-10</th>\n",
       "      <td>2008-01-10</td>\n",
       "      <td>93.709999</td>\n",
       "      <td>2008</td>\n",
       "      <td>1</td>\n",
       "      <td>10</td>\n",
       "      <td>-0.020487</td>\n",
       "      <td>-0.027198</td>\n",
       "      <td>-0.014513</td>\n",
       "    </tr>\n",
       "    <tr>\n",
       "      <th>2008-01-11</th>\n",
       "      <td>2008-01-11</td>\n",
       "      <td>92.690002</td>\n",
       "      <td>2008</td>\n",
       "      <td>1</td>\n",
       "      <td>11</td>\n",
       "      <td>-0.010885</td>\n",
       "      <td>-0.031149</td>\n",
       "      <td>-0.037787</td>\n",
       "    </tr>\n",
       "    <tr>\n",
       "      <th>2008-01-14</th>\n",
       "      <td>2008-01-14</td>\n",
       "      <td>94.199997</td>\n",
       "      <td>2008</td>\n",
       "      <td>1</td>\n",
       "      <td>14</td>\n",
       "      <td>0.016291</td>\n",
       "      <td>0.005229</td>\n",
       "      <td>-0.015365</td>\n",
       "    </tr>\n",
       "    <tr>\n",
       "      <th>2008-01-15</th>\n",
       "      <td>2008-01-15</td>\n",
       "      <td>91.900002</td>\n",
       "      <td>2008</td>\n",
       "      <td>1</td>\n",
       "      <td>15</td>\n",
       "      <td>-0.024416</td>\n",
       "      <td>-0.008523</td>\n",
       "      <td>-0.019315</td>\n",
       "    </tr>\n",
       "    <tr>\n",
       "      <th>2008-01-16</th>\n",
       "      <td>2008-01-16</td>\n",
       "      <td>90.839996</td>\n",
       "      <td>2008</td>\n",
       "      <td>1</td>\n",
       "      <td>16</td>\n",
       "      <td>-0.011534</td>\n",
       "      <td>-0.035669</td>\n",
       "      <td>-0.019959</td>\n",
       "    </tr>\n",
       "    <tr>\n",
       "      <th>2008-01-17</th>\n",
       "      <td>2008-01-17</td>\n",
       "      <td>90.129997</td>\n",
       "      <td>2008</td>\n",
       "      <td>1</td>\n",
       "      <td>17</td>\n",
       "      <td>-0.007816</td>\n",
       "      <td>-0.019260</td>\n",
       "      <td>-0.043206</td>\n",
       "    </tr>\n",
       "    <tr>\n",
       "      <th>2008-01-18</th>\n",
       "      <td>2008-01-18</td>\n",
       "      <td>90.570000</td>\n",
       "      <td>2008</td>\n",
       "      <td>1</td>\n",
       "      <td>18</td>\n",
       "      <td>0.004882</td>\n",
       "      <td>-0.002972</td>\n",
       "      <td>-0.014472</td>\n",
       "    </tr>\n",
       "    <tr>\n",
       "      <th>2008-01-22</th>\n",
       "      <td>2008-01-22</td>\n",
       "      <td>89.849998</td>\n",
       "      <td>2008</td>\n",
       "      <td>1</td>\n",
       "      <td>22</td>\n",
       "      <td>-0.007950</td>\n",
       "      <td>-0.003107</td>\n",
       "      <td>-0.010898</td>\n",
       "    </tr>\n",
       "    <tr>\n",
       "      <th>2008-01-23</th>\n",
       "      <td>2008-01-23</td>\n",
       "      <td>86.989998</td>\n",
       "      <td>2008</td>\n",
       "      <td>1</td>\n",
       "      <td>23</td>\n",
       "      <td>-0.031831</td>\n",
       "      <td>-0.039527</td>\n",
       "      <td>-0.034839</td>\n",
       "    </tr>\n",
       "    <tr>\n",
       "      <th>2008-01-24</th>\n",
       "      <td>2008-01-24</td>\n",
       "      <td>89.410004</td>\n",
       "      <td>2008</td>\n",
       "      <td>1</td>\n",
       "      <td>24</td>\n",
       "      <td>0.027819</td>\n",
       "      <td>-0.004897</td>\n",
       "      <td>-0.012808</td>\n",
       "    </tr>\n",
       "    <tr>\n",
       "      <th>2008-01-25</th>\n",
       "      <td>2008-01-25</td>\n",
       "      <td>90.709999</td>\n",
       "      <td>2008</td>\n",
       "      <td>1</td>\n",
       "      <td>25</td>\n",
       "      <td>0.014540</td>\n",
       "      <td>0.042764</td>\n",
       "      <td>0.009572</td>\n",
       "    </tr>\n",
       "    <tr>\n",
       "      <th>2008-01-28</th>\n",
       "      <td>2008-01-28</td>\n",
       "      <td>90.989998</td>\n",
       "      <td>2008</td>\n",
       "      <td>1</td>\n",
       "      <td>28</td>\n",
       "      <td>0.003087</td>\n",
       "      <td>0.017671</td>\n",
       "      <td>0.045982</td>\n",
       "    </tr>\n",
       "    <tr>\n",
       "      <th>2008-01-29</th>\n",
       "      <td>2008-01-29</td>\n",
       "      <td>91.639999</td>\n",
       "      <td>2008</td>\n",
       "      <td>1</td>\n",
       "      <td>29</td>\n",
       "      <td>0.007144</td>\n",
       "      <td>0.010252</td>\n",
       "      <td>0.024941</td>\n",
       "    </tr>\n",
       "    <tr>\n",
       "      <th>2008-01-30</th>\n",
       "      <td>2008-01-30</td>\n",
       "      <td>92.330002</td>\n",
       "      <td>2008</td>\n",
       "      <td>1</td>\n",
       "      <td>30</td>\n",
       "      <td>0.007529</td>\n",
       "      <td>0.014727</td>\n",
       "      <td>0.017859</td>\n",
       "    </tr>\n",
       "  </tbody>\n",
       "</table>\n",
       "</div>"
      ],
      "text/plain": [
       "                Fecha      Close  year  mes  dia    Return   Return2   Return3\n",
       "Date                                                                          \n",
       "2008-01-02 2008-01-02  99.620003  2008    1    2       NaN       NaN       NaN\n",
       "2008-01-03 2008-01-03  99.180000  2008    1    3 -0.004417       NaN       NaN\n",
       "2008-01-04 2008-01-04  97.910004  2008    1    4 -0.012805 -0.017165       NaN\n",
       "2008-01-07 2008-01-07  95.089996  2008    1    7 -0.028802 -0.041238 -0.045473\n",
       "2008-01-08 2008-01-08  96.330002  2008    1    8  0.013040 -0.016137 -0.028736\n",
       "2008-01-09 2008-01-09  95.669998  2008    1    9 -0.006851  0.006100 -0.022878\n",
       "2008-01-10 2008-01-10  93.709999  2008    1   10 -0.020487 -0.027198 -0.014513\n",
       "2008-01-11 2008-01-11  92.690002  2008    1   11 -0.010885 -0.031149 -0.037787\n",
       "2008-01-14 2008-01-14  94.199997  2008    1   14  0.016291  0.005229 -0.015365\n",
       "2008-01-15 2008-01-15  91.900002  2008    1   15 -0.024416 -0.008523 -0.019315\n",
       "2008-01-16 2008-01-16  90.839996  2008    1   16 -0.011534 -0.035669 -0.019959\n",
       "2008-01-17 2008-01-17  90.129997  2008    1   17 -0.007816 -0.019260 -0.043206\n",
       "2008-01-18 2008-01-18  90.570000  2008    1   18  0.004882 -0.002972 -0.014472\n",
       "2008-01-22 2008-01-22  89.849998  2008    1   22 -0.007950 -0.003107 -0.010898\n",
       "2008-01-23 2008-01-23  86.989998  2008    1   23 -0.031831 -0.039527 -0.034839\n",
       "2008-01-24 2008-01-24  89.410004  2008    1   24  0.027819 -0.004897 -0.012808\n",
       "2008-01-25 2008-01-25  90.709999  2008    1   25  0.014540  0.042764  0.009572\n",
       "2008-01-28 2008-01-28  90.989998  2008    1   28  0.003087  0.017671  0.045982\n",
       "2008-01-29 2008-01-29  91.639999  2008    1   29  0.007144  0.010252  0.024941\n",
       "2008-01-30 2008-01-30  92.330002  2008    1   30  0.007529  0.014727  0.017859"
      ]
     },
     "execution_count": 30,
     "metadata": {},
     "output_type": "execute_result"
    }
   ],
   "source": [
    "usdcop['Return']=usdcop.Close.pct_change()\n",
    "usdcop['Return2']= usdcop.Close.pct_change(periods=2)\n",
    "usdcop['Return3']= usdcop.Close.pct_change(periods=3)\n",
    "#usdcop = usdcop.drop(['Log_Return'], axis=1)\n",
    "oil['Return']= oil.Close.pct_change()\n",
    "oil['Return2']= oil.Close.pct_change(periods=2)\n",
    "oil['Return3']= oil.Close.pct_change(periods=3)\n",
    "oil.head(20)\n"
   ]
  },
  {
   "cell_type": "code",
   "execution_count": 31,
   "metadata": {},
   "outputs": [],
   "source": [
    "df_unido = pd.merge(usdcop, oil, on = 'Fecha', how='inner',left_index=True, right_index= True,suffixes =('_usdcop','_oil'))\n",
    "#df_inner = pd.merge(df1, df2, on='id', how='inner')"
   ]
  },
  {
   "cell_type": "code",
   "execution_count": 32,
   "metadata": {},
   "outputs": [
    {
     "data": {
      "text/plain": [
       "3179"
      ]
     },
     "execution_count": 32,
     "metadata": {},
     "output_type": "execute_result"
    }
   ],
   "source": [
    "len(df_unido)"
   ]
  },
  {
   "cell_type": "code",
   "execution_count": 33,
   "metadata": {},
   "outputs": [
    {
     "data": {
      "text/html": [
       "<div>\n",
       "<style scoped>\n",
       "    .dataframe tbody tr th:only-of-type {\n",
       "        vertical-align: middle;\n",
       "    }\n",
       "\n",
       "    .dataframe tbody tr th {\n",
       "        vertical-align: top;\n",
       "    }\n",
       "\n",
       "    .dataframe thead th {\n",
       "        text-align: right;\n",
       "    }\n",
       "</style>\n",
       "<table border=\"1\" class=\"dataframe\">\n",
       "  <thead>\n",
       "    <tr style=\"text-align: right;\">\n",
       "      <th></th>\n",
       "      <th>Fecha</th>\n",
       "      <th>Close_usdcop</th>\n",
       "      <th>year_usdcop</th>\n",
       "      <th>mes_usdcop</th>\n",
       "      <th>dia_usdcop</th>\n",
       "      <th>Return_usdcop</th>\n",
       "      <th>Return2_usdcop</th>\n",
       "      <th>Return3_usdcop</th>\n",
       "      <th>Close_oil</th>\n",
       "      <th>year_oil</th>\n",
       "      <th>mes_oil</th>\n",
       "      <th>dia_oil</th>\n",
       "      <th>Return_oil</th>\n",
       "      <th>Return2_oil</th>\n",
       "      <th>Return3_oil</th>\n",
       "    </tr>\n",
       "    <tr>\n",
       "      <th>Date</th>\n",
       "      <th></th>\n",
       "      <th></th>\n",
       "      <th></th>\n",
       "      <th></th>\n",
       "      <th></th>\n",
       "      <th></th>\n",
       "      <th></th>\n",
       "      <th></th>\n",
       "      <th></th>\n",
       "      <th></th>\n",
       "      <th></th>\n",
       "      <th></th>\n",
       "      <th></th>\n",
       "      <th></th>\n",
       "      <th></th>\n",
       "    </tr>\n",
       "  </thead>\n",
       "  <tbody>\n",
       "    <tr>\n",
       "      <th>2008-01-02</th>\n",
       "      <td>2008-01-02</td>\n",
       "      <td>1979.099976</td>\n",
       "      <td>2008</td>\n",
       "      <td>1</td>\n",
       "      <td>2</td>\n",
       "      <td>-0.010005</td>\n",
       "      <td>NaN</td>\n",
       "      <td>NaN</td>\n",
       "      <td>99.620003</td>\n",
       "      <td>2008</td>\n",
       "      <td>1</td>\n",
       "      <td>2</td>\n",
       "      <td>NaN</td>\n",
       "      <td>NaN</td>\n",
       "      <td>NaN</td>\n",
       "    </tr>\n",
       "    <tr>\n",
       "      <th>2008-01-03</th>\n",
       "      <td>2008-01-03</td>\n",
       "      <td>1986.800049</td>\n",
       "      <td>2008</td>\n",
       "      <td>1</td>\n",
       "      <td>3</td>\n",
       "      <td>0.003891</td>\n",
       "      <td>-0.006153</td>\n",
       "      <td>NaN</td>\n",
       "      <td>99.180000</td>\n",
       "      <td>2008</td>\n",
       "      <td>1</td>\n",
       "      <td>3</td>\n",
       "      <td>-0.004417</td>\n",
       "      <td>NaN</td>\n",
       "      <td>NaN</td>\n",
       "    </tr>\n",
       "    <tr>\n",
       "      <th>2008-01-04</th>\n",
       "      <td>2008-01-04</td>\n",
       "      <td>1972.099976</td>\n",
       "      <td>2008</td>\n",
       "      <td>1</td>\n",
       "      <td>4</td>\n",
       "      <td>-0.007399</td>\n",
       "      <td>-0.003537</td>\n",
       "      <td>-0.013506</td>\n",
       "      <td>97.910004</td>\n",
       "      <td>2008</td>\n",
       "      <td>1</td>\n",
       "      <td>4</td>\n",
       "      <td>-0.012805</td>\n",
       "      <td>-0.017165</td>\n",
       "      <td>NaN</td>\n",
       "    </tr>\n",
       "    <tr>\n",
       "      <th>2008-01-07</th>\n",
       "      <td>2008-01-07</td>\n",
       "      <td>1976.300049</td>\n",
       "      <td>2008</td>\n",
       "      <td>1</td>\n",
       "      <td>7</td>\n",
       "      <td>0.002130</td>\n",
       "      <td>-0.005285</td>\n",
       "      <td>-0.001415</td>\n",
       "      <td>95.089996</td>\n",
       "      <td>2008</td>\n",
       "      <td>1</td>\n",
       "      <td>7</td>\n",
       "      <td>-0.028802</td>\n",
       "      <td>-0.041238</td>\n",
       "      <td>-0.045473</td>\n",
       "    </tr>\n",
       "    <tr>\n",
       "      <th>2008-01-08</th>\n",
       "      <td>2008-01-08</td>\n",
       "      <td>1978.800049</td>\n",
       "      <td>2008</td>\n",
       "      <td>1</td>\n",
       "      <td>8</td>\n",
       "      <td>0.001265</td>\n",
       "      <td>0.003397</td>\n",
       "      <td>-0.004027</td>\n",
       "      <td>96.330002</td>\n",
       "      <td>2008</td>\n",
       "      <td>1</td>\n",
       "      <td>8</td>\n",
       "      <td>0.013040</td>\n",
       "      <td>-0.016137</td>\n",
       "      <td>-0.028736</td>\n",
       "    </tr>\n",
       "    <tr>\n",
       "      <th>2008-01-09</th>\n",
       "      <td>2008-01-09</td>\n",
       "      <td>2004.000000</td>\n",
       "      <td>2008</td>\n",
       "      <td>1</td>\n",
       "      <td>9</td>\n",
       "      <td>0.012735</td>\n",
       "      <td>0.014016</td>\n",
       "      <td>0.016176</td>\n",
       "      <td>95.669998</td>\n",
       "      <td>2008</td>\n",
       "      <td>1</td>\n",
       "      <td>9</td>\n",
       "      <td>-0.006851</td>\n",
       "      <td>0.006100</td>\n",
       "      <td>-0.022878</td>\n",
       "    </tr>\n",
       "    <tr>\n",
       "      <th>2008-01-10</th>\n",
       "      <td>2008-01-10</td>\n",
       "      <td>1952.199951</td>\n",
       "      <td>2008</td>\n",
       "      <td>1</td>\n",
       "      <td>10</td>\n",
       "      <td>-0.025848</td>\n",
       "      <td>-0.013443</td>\n",
       "      <td>-0.012195</td>\n",
       "      <td>93.709999</td>\n",
       "      <td>2008</td>\n",
       "      <td>1</td>\n",
       "      <td>10</td>\n",
       "      <td>-0.020487</td>\n",
       "      <td>-0.027198</td>\n",
       "      <td>-0.014513</td>\n",
       "    </tr>\n",
       "    <tr>\n",
       "      <th>2008-01-11</th>\n",
       "      <td>2008-01-11</td>\n",
       "      <td>1964.199951</td>\n",
       "      <td>2008</td>\n",
       "      <td>1</td>\n",
       "      <td>11</td>\n",
       "      <td>0.006147</td>\n",
       "      <td>-0.019860</td>\n",
       "      <td>-0.007378</td>\n",
       "      <td>92.690002</td>\n",
       "      <td>2008</td>\n",
       "      <td>1</td>\n",
       "      <td>11</td>\n",
       "      <td>-0.010885</td>\n",
       "      <td>-0.031149</td>\n",
       "      <td>-0.037787</td>\n",
       "    </tr>\n",
       "    <tr>\n",
       "      <th>2008-01-14</th>\n",
       "      <td>2008-01-14</td>\n",
       "      <td>1937.300049</td>\n",
       "      <td>2008</td>\n",
       "      <td>1</td>\n",
       "      <td>14</td>\n",
       "      <td>-0.013695</td>\n",
       "      <td>-0.007632</td>\n",
       "      <td>-0.033283</td>\n",
       "      <td>94.199997</td>\n",
       "      <td>2008</td>\n",
       "      <td>1</td>\n",
       "      <td>14</td>\n",
       "      <td>0.016291</td>\n",
       "      <td>0.005229</td>\n",
       "      <td>-0.015365</td>\n",
       "    </tr>\n",
       "    <tr>\n",
       "      <th>2008-01-15</th>\n",
       "      <td>2008-01-15</td>\n",
       "      <td>1927.400024</td>\n",
       "      <td>2008</td>\n",
       "      <td>1</td>\n",
       "      <td>15</td>\n",
       "      <td>-0.005110</td>\n",
       "      <td>-0.018735</td>\n",
       "      <td>-0.012704</td>\n",
       "      <td>91.900002</td>\n",
       "      <td>2008</td>\n",
       "      <td>1</td>\n",
       "      <td>15</td>\n",
       "      <td>-0.024416</td>\n",
       "      <td>-0.008523</td>\n",
       "      <td>-0.019315</td>\n",
       "    </tr>\n",
       "    <tr>\n",
       "      <th>2008-01-16</th>\n",
       "      <td>2008-01-16</td>\n",
       "      <td>1946.199951</td>\n",
       "      <td>2008</td>\n",
       "      <td>1</td>\n",
       "      <td>16</td>\n",
       "      <td>0.009754</td>\n",
       "      <td>0.004594</td>\n",
       "      <td>-0.009164</td>\n",
       "      <td>90.839996</td>\n",
       "      <td>2008</td>\n",
       "      <td>1</td>\n",
       "      <td>16</td>\n",
       "      <td>-0.011534</td>\n",
       "      <td>-0.035669</td>\n",
       "      <td>-0.019959</td>\n",
       "    </tr>\n",
       "    <tr>\n",
       "      <th>2008-01-17</th>\n",
       "      <td>2008-01-17</td>\n",
       "      <td>1919.699951</td>\n",
       "      <td>2008</td>\n",
       "      <td>1</td>\n",
       "      <td>17</td>\n",
       "      <td>-0.013616</td>\n",
       "      <td>-0.003995</td>\n",
       "      <td>-0.009085</td>\n",
       "      <td>90.129997</td>\n",
       "      <td>2008</td>\n",
       "      <td>1</td>\n",
       "      <td>17</td>\n",
       "      <td>-0.007816</td>\n",
       "      <td>-0.019260</td>\n",
       "      <td>-0.043206</td>\n",
       "    </tr>\n",
       "    <tr>\n",
       "      <th>2008-01-18</th>\n",
       "      <td>2008-01-18</td>\n",
       "      <td>1972.000000</td>\n",
       "      <td>2008</td>\n",
       "      <td>1</td>\n",
       "      <td>18</td>\n",
       "      <td>0.027244</td>\n",
       "      <td>0.013257</td>\n",
       "      <td>0.023140</td>\n",
       "      <td>90.570000</td>\n",
       "      <td>2008</td>\n",
       "      <td>1</td>\n",
       "      <td>18</td>\n",
       "      <td>0.004882</td>\n",
       "      <td>-0.002972</td>\n",
       "      <td>-0.014472</td>\n",
       "    </tr>\n",
       "    <tr>\n",
       "      <th>2008-01-22</th>\n",
       "      <td>2008-01-22</td>\n",
       "      <td>1939.199951</td>\n",
       "      <td>2008</td>\n",
       "      <td>1</td>\n",
       "      <td>22</td>\n",
       "      <td>-0.006964</td>\n",
       "      <td>-0.016633</td>\n",
       "      <td>0.010158</td>\n",
       "      <td>89.849998</td>\n",
       "      <td>2008</td>\n",
       "      <td>1</td>\n",
       "      <td>22</td>\n",
       "      <td>-0.007950</td>\n",
       "      <td>-0.003107</td>\n",
       "      <td>-0.010898</td>\n",
       "    </tr>\n",
       "    <tr>\n",
       "      <th>2008-01-23</th>\n",
       "      <td>2008-01-23</td>\n",
       "      <td>1940.500000</td>\n",
       "      <td>2008</td>\n",
       "      <td>1</td>\n",
       "      <td>23</td>\n",
       "      <td>0.000670</td>\n",
       "      <td>-0.006299</td>\n",
       "      <td>-0.015974</td>\n",
       "      <td>86.989998</td>\n",
       "      <td>2008</td>\n",
       "      <td>1</td>\n",
       "      <td>23</td>\n",
       "      <td>-0.031831</td>\n",
       "      <td>-0.039527</td>\n",
       "      <td>-0.034839</td>\n",
       "    </tr>\n",
       "    <tr>\n",
       "      <th>2008-01-24</th>\n",
       "      <td>2008-01-24</td>\n",
       "      <td>1960.599976</td>\n",
       "      <td>2008</td>\n",
       "      <td>1</td>\n",
       "      <td>24</td>\n",
       "      <td>0.010358</td>\n",
       "      <td>0.011035</td>\n",
       "      <td>0.003994</td>\n",
       "      <td>89.410004</td>\n",
       "      <td>2008</td>\n",
       "      <td>1</td>\n",
       "      <td>24</td>\n",
       "      <td>0.027819</td>\n",
       "      <td>-0.004897</td>\n",
       "      <td>-0.012808</td>\n",
       "    </tr>\n",
       "    <tr>\n",
       "      <th>2008-01-25</th>\n",
       "      <td>2008-01-25</td>\n",
       "      <td>1948.000000</td>\n",
       "      <td>2008</td>\n",
       "      <td>1</td>\n",
       "      <td>25</td>\n",
       "      <td>-0.006427</td>\n",
       "      <td>0.003865</td>\n",
       "      <td>0.004538</td>\n",
       "      <td>90.709999</td>\n",
       "      <td>2008</td>\n",
       "      <td>1</td>\n",
       "      <td>25</td>\n",
       "      <td>0.014540</td>\n",
       "      <td>0.042764</td>\n",
       "      <td>0.009572</td>\n",
       "    </tr>\n",
       "    <tr>\n",
       "      <th>2008-01-28</th>\n",
       "      <td>2008-01-28</td>\n",
       "      <td>1913.900024</td>\n",
       "      <td>2008</td>\n",
       "      <td>1</td>\n",
       "      <td>28</td>\n",
       "      <td>-0.017505</td>\n",
       "      <td>-0.023819</td>\n",
       "      <td>-0.013708</td>\n",
       "      <td>90.989998</td>\n",
       "      <td>2008</td>\n",
       "      <td>1</td>\n",
       "      <td>28</td>\n",
       "      <td>0.003087</td>\n",
       "      <td>0.017671</td>\n",
       "      <td>0.045982</td>\n",
       "    </tr>\n",
       "    <tr>\n",
       "      <th>2008-01-29</th>\n",
       "      <td>2008-01-29</td>\n",
       "      <td>1930.000000</td>\n",
       "      <td>2008</td>\n",
       "      <td>1</td>\n",
       "      <td>29</td>\n",
       "      <td>0.008412</td>\n",
       "      <td>-0.009240</td>\n",
       "      <td>-0.015607</td>\n",
       "      <td>91.639999</td>\n",
       "      <td>2008</td>\n",
       "      <td>1</td>\n",
       "      <td>29</td>\n",
       "      <td>0.007144</td>\n",
       "      <td>0.010252</td>\n",
       "      <td>0.024941</td>\n",
       "    </tr>\n",
       "    <tr>\n",
       "      <th>2008-01-30</th>\n",
       "      <td>2008-01-30</td>\n",
       "      <td>1908.500000</td>\n",
       "      <td>2008</td>\n",
       "      <td>1</td>\n",
       "      <td>30</td>\n",
       "      <td>-0.011140</td>\n",
       "      <td>-0.002821</td>\n",
       "      <td>-0.020277</td>\n",
       "      <td>92.330002</td>\n",
       "      <td>2008</td>\n",
       "      <td>1</td>\n",
       "      <td>30</td>\n",
       "      <td>0.007529</td>\n",
       "      <td>0.014727</td>\n",
       "      <td>0.017859</td>\n",
       "    </tr>\n",
       "  </tbody>\n",
       "</table>\n",
       "</div>"
      ],
      "text/plain": [
       "                Fecha  Close_usdcop  year_usdcop  mes_usdcop  dia_usdcop  \\\n",
       "Date                                                                       \n",
       "2008-01-02 2008-01-02   1979.099976         2008           1           2   \n",
       "2008-01-03 2008-01-03   1986.800049         2008           1           3   \n",
       "2008-01-04 2008-01-04   1972.099976         2008           1           4   \n",
       "2008-01-07 2008-01-07   1976.300049         2008           1           7   \n",
       "2008-01-08 2008-01-08   1978.800049         2008           1           8   \n",
       "2008-01-09 2008-01-09   2004.000000         2008           1           9   \n",
       "2008-01-10 2008-01-10   1952.199951         2008           1          10   \n",
       "2008-01-11 2008-01-11   1964.199951         2008           1          11   \n",
       "2008-01-14 2008-01-14   1937.300049         2008           1          14   \n",
       "2008-01-15 2008-01-15   1927.400024         2008           1          15   \n",
       "2008-01-16 2008-01-16   1946.199951         2008           1          16   \n",
       "2008-01-17 2008-01-17   1919.699951         2008           1          17   \n",
       "2008-01-18 2008-01-18   1972.000000         2008           1          18   \n",
       "2008-01-22 2008-01-22   1939.199951         2008           1          22   \n",
       "2008-01-23 2008-01-23   1940.500000         2008           1          23   \n",
       "2008-01-24 2008-01-24   1960.599976         2008           1          24   \n",
       "2008-01-25 2008-01-25   1948.000000         2008           1          25   \n",
       "2008-01-28 2008-01-28   1913.900024         2008           1          28   \n",
       "2008-01-29 2008-01-29   1930.000000         2008           1          29   \n",
       "2008-01-30 2008-01-30   1908.500000         2008           1          30   \n",
       "\n",
       "            Return_usdcop  Return2_usdcop  Return3_usdcop  Close_oil  \\\n",
       "Date                                                                   \n",
       "2008-01-02      -0.010005             NaN             NaN  99.620003   \n",
       "2008-01-03       0.003891       -0.006153             NaN  99.180000   \n",
       "2008-01-04      -0.007399       -0.003537       -0.013506  97.910004   \n",
       "2008-01-07       0.002130       -0.005285       -0.001415  95.089996   \n",
       "2008-01-08       0.001265        0.003397       -0.004027  96.330002   \n",
       "2008-01-09       0.012735        0.014016        0.016176  95.669998   \n",
       "2008-01-10      -0.025848       -0.013443       -0.012195  93.709999   \n",
       "2008-01-11       0.006147       -0.019860       -0.007378  92.690002   \n",
       "2008-01-14      -0.013695       -0.007632       -0.033283  94.199997   \n",
       "2008-01-15      -0.005110       -0.018735       -0.012704  91.900002   \n",
       "2008-01-16       0.009754        0.004594       -0.009164  90.839996   \n",
       "2008-01-17      -0.013616       -0.003995       -0.009085  90.129997   \n",
       "2008-01-18       0.027244        0.013257        0.023140  90.570000   \n",
       "2008-01-22      -0.006964       -0.016633        0.010158  89.849998   \n",
       "2008-01-23       0.000670       -0.006299       -0.015974  86.989998   \n",
       "2008-01-24       0.010358        0.011035        0.003994  89.410004   \n",
       "2008-01-25      -0.006427        0.003865        0.004538  90.709999   \n",
       "2008-01-28      -0.017505       -0.023819       -0.013708  90.989998   \n",
       "2008-01-29       0.008412       -0.009240       -0.015607  91.639999   \n",
       "2008-01-30      -0.011140       -0.002821       -0.020277  92.330002   \n",
       "\n",
       "            year_oil  mes_oil  dia_oil  Return_oil  Return2_oil  Return3_oil  \n",
       "Date                                                                          \n",
       "2008-01-02      2008        1        2         NaN          NaN          NaN  \n",
       "2008-01-03      2008        1        3   -0.004417          NaN          NaN  \n",
       "2008-01-04      2008        1        4   -0.012805    -0.017165          NaN  \n",
       "2008-01-07      2008        1        7   -0.028802    -0.041238    -0.045473  \n",
       "2008-01-08      2008        1        8    0.013040    -0.016137    -0.028736  \n",
       "2008-01-09      2008        1        9   -0.006851     0.006100    -0.022878  \n",
       "2008-01-10      2008        1       10   -0.020487    -0.027198    -0.014513  \n",
       "2008-01-11      2008        1       11   -0.010885    -0.031149    -0.037787  \n",
       "2008-01-14      2008        1       14    0.016291     0.005229    -0.015365  \n",
       "2008-01-15      2008        1       15   -0.024416    -0.008523    -0.019315  \n",
       "2008-01-16      2008        1       16   -0.011534    -0.035669    -0.019959  \n",
       "2008-01-17      2008        1       17   -0.007816    -0.019260    -0.043206  \n",
       "2008-01-18      2008        1       18    0.004882    -0.002972    -0.014472  \n",
       "2008-01-22      2008        1       22   -0.007950    -0.003107    -0.010898  \n",
       "2008-01-23      2008        1       23   -0.031831    -0.039527    -0.034839  \n",
       "2008-01-24      2008        1       24    0.027819    -0.004897    -0.012808  \n",
       "2008-01-25      2008        1       25    0.014540     0.042764     0.009572  \n",
       "2008-01-28      2008        1       28    0.003087     0.017671     0.045982  \n",
       "2008-01-29      2008        1       29    0.007144     0.010252     0.024941  \n",
       "2008-01-30      2008        1       30    0.007529     0.014727     0.017859  "
      ]
     },
     "execution_count": 33,
     "metadata": {},
     "output_type": "execute_result"
    }
   ],
   "source": [
    "df_unido.head(20)"
   ]
  },
  {
   "cell_type": "code",
   "execution_count": 34,
   "metadata": {},
   "outputs": [
    {
     "data": {
      "text/plain": [
       "Index(['Fecha', 'Close_usdcop', 'year_usdcop', 'mes_usdcop', 'dia_usdcop',\n",
       "       'Return_usdcop', 'Return2_usdcop', 'Return3_usdcop', 'Close_oil',\n",
       "       'year_oil', 'mes_oil', 'dia_oil', 'Return_oil', 'Return2_oil',\n",
       "       'Return3_oil'],\n",
       "      dtype='object')"
      ]
     },
     "execution_count": 34,
     "metadata": {},
     "output_type": "execute_result"
    }
   ],
   "source": [
    "df_unido.columns"
   ]
  },
  {
   "cell_type": "code",
   "execution_count": 59,
   "metadata": {},
   "outputs": [
    {
     "data": {
      "image/png": "[encoded data removed]",
      "text/plain": [
       "<Figure size 432x288 with 1 Axes>"
      ]
     },
     "metadata": {
      "needs_background": "light"
     },
     "output_type": "display_data"
    },
    {
     "data": {
      "image/png": "[encoded data removed]",
      "text/plain": [
       "<Figure size 432x288 with 1 Axes>"
      ]
     },
     "metadata": {
      "needs_background": "light"
     },
     "output_type": "display_data"
    }
   ],
   "source": [
    "# Import the Python module\n",
    "from statsmodels.graphics.tsaplots import plot_acf\n",
    "x = df_unido['Return_usdcop']\n",
    "\n",
    "# Plot Retornos TRM\n",
    "\n",
    "plt.plot(x)\n",
    "\n",
    "plt.title('Retorno TRM')\n",
    "plt.show()\n",
    "\n",
    "# ACF\n",
    "\n",
    "fig = plot_acf(x)\n",
    "\n",
    "plt.show()"
   ]
  },
  {
   "cell_type": "code",
   "execution_count": 61,
   "metadata": {},
   "outputs": [
    {
     "data": {
      "image/png": "[encoded data removed]",
      "text/plain": [
       "<Figure size 432x288 with 1 Axes>"
      ]
     },
     "metadata": {
      "needs_background": "light"
     },
     "output_type": "display_data"
    },
    {
     "data": {
      "image/png": "[encoded data removed]",
      "text/plain": [
       "<Figure size 432x288 with 1 Axes>"
      ]
     },
     "metadata": {
      "needs_background": "light"
     },
     "output_type": "display_data"
    }
   ],
   "source": [
    "x = df_unido['Close_oil']\n",
    "#x = x.loc[:'2020-01-31']\n",
    "# Plot Retorno OIL\n",
    "plt.plot(x)\n",
    "plt.title('Precio OIL')\n",
    "plt.show()\n",
    "\n",
    "# Generate ACF plot \n",
    "plot_acf(x)\n",
    "plt.show()"
   ]
  },
  {
   "cell_type": "code",
   "execution_count": 37,
   "metadata": {},
   "outputs": [],
   "source": [
    "df_corr= df_unido[['Close_usdcop','Return_usdcop','Return2_usdcop', 'Return3_usdcop','Close_oil','Return_oil', 'Return2_oil',\n",
    "       'Return3_oil']].corr()"
   ]
  },
  {
   "cell_type": "code",
   "execution_count": 229,
   "metadata": {},
   "outputs": [],
   "source": [
    "df_corr_returns = df_unido[['Return_usdcop','Return_oil']].corr()"
   ]
  },
  {
   "cell_type": "code",
   "execution_count": 38,
   "metadata": {},
   "outputs": [
    {
     "data": {
      "text/html": [
       "<div>\n",
       "<style scoped>\n",
       "    .dataframe tbody tr th:only-of-type {\n",
       "        vertical-align: middle;\n",
       "    }\n",
       "\n",
       "    .dataframe tbody tr th {\n",
       "        vertical-align: top;\n",
       "    }\n",
       "\n",
       "    .dataframe thead th {\n",
       "        text-align: right;\n",
       "    }\n",
       "</style>\n",
       "<table border=\"1\" class=\"dataframe\">\n",
       "  <thead>\n",
       "    <tr style=\"text-align: right;\">\n",
       "      <th></th>\n",
       "      <th>Close_usdcop</th>\n",
       "      <th>Return_usdcop</th>\n",
       "      <th>Return2_usdcop</th>\n",
       "      <th>Return3_usdcop</th>\n",
       "      <th>Close_oil</th>\n",
       "      <th>Return_oil</th>\n",
       "      <th>Return2_oil</th>\n",
       "      <th>Return3_oil</th>\n",
       "    </tr>\n",
       "  </thead>\n",
       "  <tbody>\n",
       "    <tr>\n",
       "      <th>Close_usdcop</th>\n",
       "      <td>1.000000</td>\n",
       "      <td>0.028787</td>\n",
       "      <td>0.041324</td>\n",
       "      <td>0.051427</td>\n",
       "      <td>-0.831499</td>\n",
       "      <td>-0.033636</td>\n",
       "      <td>-0.030578</td>\n",
       "      <td>-0.036142</td>\n",
       "    </tr>\n",
       "    <tr>\n",
       "      <th>Return_usdcop</th>\n",
       "      <td>0.028787</td>\n",
       "      <td>1.000000</td>\n",
       "      <td>0.619091</td>\n",
       "      <td>0.522373</td>\n",
       "      <td>-0.003842</td>\n",
       "      <td>-0.018283</td>\n",
       "      <td>-0.084257</td>\n",
       "      <td>-0.083779</td>\n",
       "    </tr>\n",
       "    <tr>\n",
       "      <th>Return2_usdcop</th>\n",
       "      <td>0.041324</td>\n",
       "      <td>0.619091</td>\n",
       "      <td>1.000000</td>\n",
       "      <td>0.726101</td>\n",
       "      <td>-0.009071</td>\n",
       "      <td>-0.025511</td>\n",
       "      <td>-0.107992</td>\n",
       "      <td>-0.151633</td>\n",
       "    </tr>\n",
       "    <tr>\n",
       "      <th>Return3_usdcop</th>\n",
       "      <td>0.051427</td>\n",
       "      <td>0.522373</td>\n",
       "      <td>0.726101</td>\n",
       "      <td>1.000000</td>\n",
       "      <td>-0.010730</td>\n",
       "      <td>-0.027959</td>\n",
       "      <td>-0.089694</td>\n",
       "      <td>-0.158138</td>\n",
       "    </tr>\n",
       "    <tr>\n",
       "      <th>Close_oil</th>\n",
       "      <td>-0.831499</td>\n",
       "      <td>-0.003842</td>\n",
       "      <td>-0.009071</td>\n",
       "      <td>-0.010730</td>\n",
       "      <td>1.000000</td>\n",
       "      <td>0.079457</td>\n",
       "      <td>0.078030</td>\n",
       "      <td>0.084495</td>\n",
       "    </tr>\n",
       "    <tr>\n",
       "      <th>Return_oil</th>\n",
       "      <td>-0.033636</td>\n",
       "      <td>-0.018283</td>\n",
       "      <td>-0.025511</td>\n",
       "      <td>-0.027959</td>\n",
       "      <td>0.079457</td>\n",
       "      <td>1.000000</td>\n",
       "      <td>0.793312</td>\n",
       "      <td>0.727542</td>\n",
       "    </tr>\n",
       "    <tr>\n",
       "      <th>Return2_oil</th>\n",
       "      <td>-0.030578</td>\n",
       "      <td>-0.084257</td>\n",
       "      <td>-0.107992</td>\n",
       "      <td>-0.089694</td>\n",
       "      <td>0.078030</td>\n",
       "      <td>0.793312</td>\n",
       "      <td>1.000000</td>\n",
       "      <td>0.758847</td>\n",
       "    </tr>\n",
       "    <tr>\n",
       "      <th>Return3_oil</th>\n",
       "      <td>-0.036142</td>\n",
       "      <td>-0.083779</td>\n",
       "      <td>-0.151633</td>\n",
       "      <td>-0.158138</td>\n",
       "      <td>0.084495</td>\n",
       "      <td>0.727542</td>\n",
       "      <td>0.758847</td>\n",
       "      <td>1.000000</td>\n",
       "    </tr>\n",
       "  </tbody>\n",
       "</table>\n",
       "</div>"
      ],
      "text/plain": [
       "                Close_usdcop  Return_usdcop  Return2_usdcop  Return3_usdcop  \\\n",
       "Close_usdcop        1.000000       0.028787        0.041324        0.051427   \n",
       "Return_usdcop       0.028787       1.000000        0.619091        0.522373   \n",
       "Return2_usdcop      0.041324       0.619091        1.000000        0.726101   \n",
       "Return3_usdcop      0.051427       0.522373        0.726101        1.000000   \n",
       "Close_oil          -0.831499      -0.003842       -0.009071       -0.010730   \n",
       "Return_oil         -0.033636      -0.018283       -0.025511       -0.027959   \n",
       "Return2_oil        -0.030578      -0.084257       -0.107992       -0.089694   \n",
       "Return3_oil        -0.036142      -0.083779       -0.151633       -0.158138   \n",
       "\n",
       "                Close_oil  Return_oil  Return2_oil  Return3_oil  \n",
       "Close_usdcop    -0.831499   -0.033636    -0.030578    -0.036142  \n",
       "Return_usdcop   -0.003842   -0.018283    -0.084257    -0.083779  \n",
       "Return2_usdcop  -0.009071   -0.025511    -0.107992    -0.151633  \n",
       "Return3_usdcop  -0.010730   -0.027959    -0.089694    -0.158138  \n",
       "Close_oil        1.000000    0.079457     0.078030     0.084495  \n",
       "Return_oil       0.079457    1.000000     0.793312     0.727542  \n",
       "Return2_oil      0.078030    0.793312     1.000000     0.758847  \n",
       "Return3_oil      0.084495    0.727542     0.758847     1.000000  "
      ]
     },
     "execution_count": 38,
     "metadata": {},
     "output_type": "execute_result"
    }
   ],
   "source": [
    "df_corr"
   ]
  },
  {
   "cell_type": "markdown",
   "metadata": {},
   "source": [
    "* La correlación negativa entre el precio del petróleo y la TRM es alta en niveles -0.83, pero dicho valor puede deberse a la tendencia que se observa en ambas series y la posible presencia de raíz unitaria en ambas series.\n",
    "* También, como lo muestra el Autocorrelograma (ACF), existe una relación fuerte entre los valores actuales de las series, tanto de la TRM como del petróleo, y sus valores pasados.\n",
    "* Cuando analizamos la correlación entre los retornos de las series vemos que, aunque se mantiene la correlación negativa, esta cae en valor significativamente."
   ]
  },
  {
   "cell_type": "code",
   "execution_count": 44,
   "metadata": {},
   "outputs": [],
   "source": [
    "# Tabla de agrupamiento por año\n",
    "\n",
    "usdcop_gry = usdcop.groupby(['year']).agg({'Close':['min','max','mean']})\n",
    "usdcop_gry.columns =['Minimo', 'Maximo', 'Promedio']\n",
    "usdcop_gry = usdcop_gry.reset_index()\n",
    "\n",
    "\n",
    "\n"
   ]
  },
  {
   "cell_type": "code",
   "execution_count": 45,
   "metadata": {},
   "outputs": [
    {
     "data": {
      "text/html": [
       "<div>\n",
       "<style scoped>\n",
       "    .dataframe tbody tr th:only-of-type {\n",
       "        vertical-align: middle;\n",
       "    }\n",
       "\n",
       "    .dataframe tbody tr th {\n",
       "        vertical-align: top;\n",
       "    }\n",
       "\n",
       "    .dataframe thead th {\n",
       "        text-align: right;\n",
       "    }\n",
       "</style>\n",
       "<table border=\"1\" class=\"dataframe\">\n",
       "  <thead>\n",
       "    <tr style=\"text-align: right;\">\n",
       "      <th></th>\n",
       "      <th>year</th>\n",
       "      <th>Minimo</th>\n",
       "      <th>Maximo</th>\n",
       "      <th>Promedio</th>\n",
       "    </tr>\n",
       "  </thead>\n",
       "  <tbody>\n",
       "    <tr>\n",
       "      <th>0</th>\n",
       "      <td>2008</td>\n",
       "      <td>1,625.70</td>\n",
       "      <td>2,362.80</td>\n",
       "      <td>1,938.44</td>\n",
       "    </tr>\n",
       "    <tr>\n",
       "      <th>1</th>\n",
       "      <td>2009</td>\n",
       "      <td>1,810.00</td>\n",
       "      <td>2,598.00</td>\n",
       "      <td>2,138.28</td>\n",
       "    </tr>\n",
       "    <tr>\n",
       "      <th>2</th>\n",
       "      <td>2010</td>\n",
       "      <td>1,755.60</td>\n",
       "      <td>2,023.00</td>\n",
       "      <td>1,888.33</td>\n",
       "    </tr>\n",
       "    <tr>\n",
       "      <th>3</th>\n",
       "      <td>2011</td>\n",
       "      <td>1,726.70</td>\n",
       "      <td>1,969.30</td>\n",
       "      <td>1,837.83</td>\n",
       "    </tr>\n",
       "    <tr>\n",
       "      <th>4</th>\n",
       "      <td>2012</td>\n",
       "      <td>1,715.50</td>\n",
       "      <td>1,908.00</td>\n",
       "      <td>1,789.79</td>\n",
       "    </tr>\n",
       "    <tr>\n",
       "      <th>5</th>\n",
       "      <td>2013</td>\n",
       "      <td>1,758.00</td>\n",
       "      <td>1,949.00</td>\n",
       "      <td>1,866.79</td>\n",
       "    </tr>\n",
       "    <tr>\n",
       "      <th>6</th>\n",
       "      <td>2014</td>\n",
       "      <td>1,841.00</td>\n",
       "      <td>2,427.00</td>\n",
       "      <td>1,993.51</td>\n",
       "    </tr>\n",
       "    <tr>\n",
       "      <th>7</th>\n",
       "      <td>2015</td>\n",
       "      <td>2,323.00</td>\n",
       "      <td>3,327.00</td>\n",
       "      <td>2,732.09</td>\n",
       "    </tr>\n",
       "    <tr>\n",
       "      <th>8</th>\n",
       "      <td>2016</td>\n",
       "      <td>2,806.00</td>\n",
       "      <td>3,414.00</td>\n",
       "      <td>3,026.51</td>\n",
       "    </tr>\n",
       "    <tr>\n",
       "      <th>9</th>\n",
       "      <td>2017</td>\n",
       "      <td>2,796.70</td>\n",
       "      <td>3,094.25</td>\n",
       "      <td>2,937.58</td>\n",
       "    </tr>\n",
       "    <tr>\n",
       "      <th>10</th>\n",
       "      <td>2018</td>\n",
       "      <td>2,681.40</td>\n",
       "      <td>3,293.50</td>\n",
       "      <td>2,949.64</td>\n",
       "    </tr>\n",
       "    <tr>\n",
       "      <th>11</th>\n",
       "      <td>2019</td>\n",
       "      <td>3,038.90</td>\n",
       "      <td>3,510.86</td>\n",
       "      <td>3,273.96</td>\n",
       "    </tr>\n",
       "    <tr>\n",
       "      <th>12</th>\n",
       "      <td>2020</td>\n",
       "      <td>3,204.05</td>\n",
       "      <td>4,174.75</td>\n",
       "      <td>3,707.66</td>\n",
       "    </tr>\n",
       "  </tbody>\n",
       "</table>\n",
       "</div>"
      ],
      "text/plain": [
       "    year   Minimo   Maximo  Promedio\n",
       "0   2008 1,625.70 2,362.80  1,938.44\n",
       "1   2009 1,810.00 2,598.00  2,138.28\n",
       "2   2010 1,755.60 2,023.00  1,888.33\n",
       "3   2011 1,726.70 1,969.30  1,837.83\n",
       "4   2012 1,715.50 1,908.00  1,789.79\n",
       "5   2013 1,758.00 1,949.00  1,866.79\n",
       "6   2014 1,841.00 2,427.00  1,993.51\n",
       "7   2015 2,323.00 3,327.00  2,732.09\n",
       "8   2016 2,806.00 3,414.00  3,026.51\n",
       "9   2017 2,796.70 3,094.25  2,937.58\n",
       "10  2018 2,681.40 3,293.50  2,949.64\n",
       "11  2019 3,038.90 3,510.86  3,273.96\n",
       "12  2020 3,204.05 4,174.75  3,707.66"
      ]
     },
     "execution_count": 45,
     "metadata": {},
     "output_type": "execute_result"
    }
   ],
   "source": [
    "pd.options.display.float_format=\"{:,.2f}\".format\n",
    "usdcop_gry.head(20)"
   ]
  }
 ],
 "metadata": {
  "kernelspec": {
   "display_name": "Python 3",
   "language": "python",
   "name": "python3"
  },
  "language_info": {
   "codemirror_mode": {
    "name": "ipython",
    "version": 3
   },
   "file_extension": ".py",
   "mimetype": "text/x-python",
   "name": "python",
   "nbconvert_exporter": "python",
   "pygments_lexer": "ipython3",
   "version": "3.8.3"
  }
 },
 "nbformat": 4,
 "nbformat_minor": 4
}
